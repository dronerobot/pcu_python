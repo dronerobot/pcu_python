{
 "cells": [
  {
   "cell_type": "code",
   "execution_count": 55,
   "id": "d1a946eb",
   "metadata": {},
   "outputs": [],
   "source": [
    "import urllib.request\n",
    "client_id = \"f4AKRVTREX8a4U6Jyic8\"\n",
    "client_secret = \"42DKFZZ2E6\""
   ]
  },
  {
   "cell_type": "code",
   "execution_count": 56,
   "id": "8ac54686",
   "metadata": {},
   "outputs": [],
   "source": [
    "import json"
   ]
  },
  {
   "cell_type": "code",
   "execution_count": 57,
   "id": "2e9e22d8",
   "metadata": {},
   "outputs": [],
   "source": [
    "def create_url(api_node, search_text, start_num, disp_num):\n",
    "    base = \"https://openapi.naver.com/v1/search\"\n",
    "    node = \"/\"+api_node+\".json\"\n",
    "    param_query = \"?query=\" + urllib.parse.quote(search_text)\n",
    "    param_start = \"&start=\" + str(start_num)\n",
    "    param_disp = \"&display=\" + str(disp_num)\n",
    "    \n",
    "    return base+node+param_query+param_start+param_disp"
   ]
  },
  {
   "cell_type": "code",
   "execution_count": 58,
   "id": "490077c6",
   "metadata": {},
   "outputs": [],
   "source": [
    "url = create_url(\"book\", \"파이썬\", 1,10)"
   ]
  },
  {
   "cell_type": "code",
   "execution_count": 59,
   "id": "3e91a3eb",
   "metadata": {},
   "outputs": [
    {
     "name": "stdout",
     "output_type": "stream",
     "text": [
      "200\n"
     ]
    }
   ],
   "source": [
    "request = urllib.request.Request(url)\n",
    "request.add_header(\"X-Naver-Client-Id\", client_id)\n",
    "request.add_header(\"X-Naver-Client-Secret\", client_secret)\n",
    "response = urllib.request.urlopen(request)\n",
    "print(response.getcode())"
   ]
  },
  {
   "cell_type": "code",
   "execution_count": 60,
   "id": "39a53557",
   "metadata": {},
   "outputs": [
    {
     "data": {
      "text/plain": [
       "{'lastBuildDate': 'Wed, 24 Nov 2021 19:45:41 +0900',\n",
       " 'total': 1407,\n",
       " 'start': 1,\n",
       " 'display': 10,\n",
       " 'items': [{'title': '이것이 취업을 위한 코딩 테스트다 with <b>파이썬</b> (취업과 이직을 결정하는 알고리즘 인터뷰 완벽 가이드, C/C++, 자바 코드 제공)',\n",
       "   'link': 'http://book.naver.com/bookdb/book_detail.php?bid=16439154',\n",
       "   'image': 'https://bookthumb-phinf.pstatic.net/cover/164/391/16439154.jpg?type=m1&udate=20200928',\n",
       "   'author': '나동빈',\n",
       "   'price': '34000',\n",
       "   'discount': '30600',\n",
       "   'publisher': '한빛미디어',\n",
       "   'pubdate': '20200805',\n",
       "   'isbn': '1162243074 9791162243077',\n",
       "   'description': '8가지 핵심 알고리즘 이론을 쉽게 설명하고, 관련 실전 문제를 풀이했다. 출제 유형 분석, 이론 설명, 기출문제 풀이까지! 어떤 코딩 테스트도 이 책 한 권으로 대비할 수 있을 것이다. 코딩 테스트에서 주로 선택하는 <b>파이썬</b>을 기반으로 설명되어 있으며, <b>파이썬</b> 코드 외에도 C/C++, 자바 코드를 추가로 제공한다.'},\n",
       "  {'title': '혼자 공부하는 <b>파이썬</b> (<b>파이썬</b> 최신 버전 반영)',\n",
       "   'link': 'http://book.naver.com/bookdb/book_detail.php?bid=15028688',\n",
       "   'image': 'https://bookthumb-phinf.pstatic.net/cover/150/286/15028688.jpg?type=m1&udate=20210809',\n",
       "   'author': '윤인성',\n",
       "   'price': '18000',\n",
       "   'discount': '16200',\n",
       "   'publisher': '한빛미디어',\n",
       "   'pubdate': '20190610',\n",
       "   'isbn': '1162241888 9791162241882',\n",
       "   'description': '1:1 과외하듯 배우는 <b>파이썬</b> 프로그래밍 자습서(<b>파이썬</b> 최신 버전 반영)\\n27명의 베타리더 검증으로, ‘함께 만든’ 입문자 맞춤형 도서\\n이 책은 독학으로 프로그래밍 언어를 처음 배우려는 입문자가, 혹은 <b>파이썬</b>을 배우려는 입문자가 ‘꼭 필요한 내용을 제대로’ 학습할 수 있도록 구성했다. ‘무엇을’... '},\n",
       "  {'title': 'Do it! 점프 투 <b>파이썬</b>',\n",
       "   'link': 'http://book.naver.com/bookdb/book_detail.php?bid=15052904',\n",
       "   'image': 'https://bookthumb-phinf.pstatic.net/cover/150/529/15052904.jpg?type=m1&udate=20200910',\n",
       "   'author': '박응용',\n",
       "   'price': '18800',\n",
       "   'discount': '16900',\n",
       "   'publisher': '이지스퍼블리싱',\n",
       "   'pubdate': '20190620',\n",
       "   'isbn': '1163030910 9791163030911',\n",
       "   'description': '<b>파이썬</b> 4년 연속 베스트셀러 1위!\\n《DO IT! 점프 투 <b>파이썬</b>》 전면 개정판 출시!문과생도 중고등학생도 직장인도 프로그래밍에 눈뜨게 만든 바로 그 책이... 점프 투 <b>파이썬</b>》으로 출간되었던 이 책은 약 4년 동안의 피드백을 반영하여 초보자가 더 빠르게 입문하고, 더 깊이 있게 공부할 수 있도록 개정되었다.... '},\n",
       "  {'title': '<b>파이썬</b> 알고리즘 인터뷰 (95가지 알고리즘 문제 풀이로 완성하는 코딩 테스트)',\n",
       "   'link': 'http://book.naver.com/bookdb/book_detail.php?bid=16406247',\n",
       "   'image': 'https://bookthumb-phinf.pstatic.net/cover/164/062/16406247.jpg?type=m1&udate=20201028',\n",
       "   'author': '박상길',\n",
       "   'price': '38000',\n",
       "   'discount': '34200',\n",
       "   'publisher': '책만',\n",
       "   'pubdate': '20200715',\n",
       "   'isbn': '1189909170 9791189909178',\n",
       "   'description': '물론, <b>파이썬</b>으로 구현하는 코드 풀이를 통해 성능 최적화 기법, <b>파이썬</b>의 핵심 문법과 다양한 실용 테크닉까지 배울 수 있는, 초보 개발자와 숙련 개발자... 이 책은 현업과 실무에 유용한 주요 알고리즘 이론을 깊숙이 이해하고, <b>파이썬</b>의 핵심 기능과 문법까지 상세하게 이해할 수 있는 취업용 코딩 테스트를... '},\n",
       "  {'title': '<b>파이썬</b>(Python) 2학년 스크래핑의 구조 (체험으로 배우고! 대화 형식으로 공부!)',\n",
       "   'link': 'http://book.naver.com/bookdb/book_detail.php?bid=21259836',\n",
       "   'image': 'https://bookthumb-phinf.pstatic.net/cover/212/598/21259836.jpg?type=m1&udate=20211111',\n",
       "   'author': '모리 요시나오',\n",
       "   'price': '17000',\n",
       "   'discount': '15300',\n",
       "   'publisher': '성안당',\n",
       "   'pubdate': '20211117',\n",
       "   'isbn': '8931556896 9788931556896',\n",
       "   'description': '데이터 수집이나 해석, 분석에 대해 알기 쉽게 설명!<b>파이썬</b>은 인공지능의 기초 언어로 배우기 쉬우면서 각종 데이터 분석에 사용되는 프로그래밍 언어로 절정의 인기를 누리고 있다. 기존이 <b>파이썬</b>... 하는데, <b>파이썬</b>은 인터넷에 액세스할 수 있는 라이브러리가 풍부해 이 두가지 모두 쉽고 편하게 할 수... '},\n",
       "  {'title': '<b>파이썬</b> 증권 데이터 분석 (<b>파이썬</b> 입문, 웹 스크레이핑, 트레이딩 전략, 자동 매매)',\n",
       "   'link': 'http://book.naver.com/bookdb/book_detail.php?bid=16381920',\n",
       "   'image': 'https://bookthumb-phinf.pstatic.net/cover/163/819/16381920.jpg?type=m1&udate=20201117',\n",
       "   'author': '김황후',\n",
       "   'price': '32000',\n",
       "   'discount': '28800',\n",
       "   'publisher': '한빛미디어',\n",
       "   'pubdate': '20200701',\n",
       "   'isbn': '1162243201 9791162243206',\n",
       "   'description': '투자 기법과 프로그래밍 기술로 &#x0D;자신만의 퀀트 투자 시스템을 완성하라&#x0D;&#x0D;『<b>파이썬</b> 증권 데이터 분석』은 웹 스크레이핑으로 증권 데이터를 주기적으로 자동 수집, 분석, 자동 매매, 예측하는 전 과정을 <b>파이썬</b>으로 직접 구현한다. 그 과정에서 금융 데이터 처리 기본 라이브러리(팬더스)부터 주가... '},\n",
       "  {'title': '<b>파이썬</b> 머신러닝 완벽 가이드 (다양한 캐글 예제와 함께 기초 알고리즘부터 최신 기법까지 배우는)',\n",
       "   'link': 'http://book.naver.com/bookdb/book_detail.php?bid=16238302',\n",
       "   'image': 'https://bookthumb-phinf.pstatic.net/cover/162/383/16238302.jpg?type=m1&udate=20200423',\n",
       "   'author': '권철민',\n",
       "   'price': '38000',\n",
       "   'discount': '34200',\n",
       "   'publisher': '위키북스',\n",
       "   'pubdate': '20200207',\n",
       "   'isbn': '1158391927 9791158391928',\n",
       "   'description': '자세한 이론 설명과 <b>파이썬</b> 실습을 통해 머신러닝을 완벽하게 배울 수 있습니다!《<b>파이썬</b> 머신러닝 완벽 가이드》는 이론 위주의 머신러닝 책에서 탈피해 다양한 실전 예제를 직접 구현해 보면서 머신러닝을 체득할 수 있도록 만들었습니다.  캐글과 UCI 머신러닝 리포지토리에서 난이도가 있는 실습... '},\n",
       "  {'title': '한 권으로 끝내는 <b>파이썬</b> 인공지능 입문 + 실전 종합편 (<b>파이썬</b>+넘파이+텐서플로우로 인공지능 딥러닝 직접 구현하기)',\n",
       "   'link': 'http://book.naver.com/bookdb/book_detail.php?bid=20937519',\n",
       "   'image': 'https://bookthumb-phinf.pstatic.net/cover/209/375/20937519.jpg?type=m1&udate=20211118',\n",
       "   'author': '서민우',\n",
       "   'price': '23000',\n",
       "   'discount': '20700',\n",
       "   'publisher': '앤써북',\n",
       "   'pubdate': '20210925',\n",
       "   'isbn': '118555386X 9791185553863',\n",
       "   'description': '〈한 권으로 끝내는 <b>파이썬</b> 인공지능 입문+실전(종합편)〉 책을 통해 <b>파이썬</b>, 넘파이, 텐서플로우를 이용하여 인공지능 일고리즘을 구현해 보면서... ㆍ 1단계 : 인공지능 딥러닝 이해 ㆍ 2단계 : <b>파이썬</b>으로 딥러닝 알고리즘 구현ㆍ 3단계 : 넘파이로 행렬기반 딥러닝 알고리즘 구현 ㆍ 4단계 : 직접 구현으로... '},\n",
       "  {'title': '<b>파이썬</b>을 이용한 비트코인 자동매매 (실시간 자동매매 시스템 개발 입문, 개정판)',\n",
       "   'link': 'http://book.naver.com/bookdb/book_detail.php?bid=18214660',\n",
       "   'image': 'https://bookthumb-phinf.pstatic.net/cover/182/146/18214660.jpg?type=m1&udate=20210316',\n",
       "   'author': '유대표|조대표',\n",
       "   'price': '27000',\n",
       "   'discount': '24300',\n",
       "   'publisher': '파이스탁',\n",
       "   'pubdate': '20210322',\n",
       "   'isbn': '1196608814 9791196608811',\n",
       "   'description': '이 책은 최근 인기 있는 프로그래밍 언어인 <b>파이썬</b>을 사용하여 국내 3대 거래소(코빗, 빗썸, 업비트)... 프로그래밍 경험이 없는 일반인을 대상으로 <b>파이썬</b> 기초 문법부터 시작하여 24시간 실시간 자동... 있어 <b>파이썬</b>을 처음 배우는 분들이 유익하고 재미있게 프로그래밍을 배울 수 있도록 합니다. 책에서... '},\n",
       "  {'title': '모두의 <b>파이썬</b> (20일 만에 배우는 프로그래밍 기초)',\n",
       "   'link': 'http://book.naver.com/bookdb/book_detail.php?bid=14126163',\n",
       "   'image': 'https://bookthumb-phinf.pstatic.net/cover/141/261/14126163.jpg?type=m1&udate=20210210',\n",
       "   'author': '이승찬',\n",
       "   'price': '12000',\n",
       "   'discount': '10800',\n",
       "   'publisher': '길벗',\n",
       "   'pubdate': '20181009',\n",
       "   'isbn': '1160505853 9791160505856',\n",
       "   'description': '<b>파이썬</b> 분야 & 어린이 코딩 교육 분야\\n2년 연속 베스트셀러! 개정판 출간!\\n즐겁게 시작하는 나의 첫 프로그래밍!\\n프로그래밍을 한 번도 해본 적이 없어도 괜찮다. <b>파이썬</b>이 무엇인지 몰라도 상관 없다.... 어느새 <b>파이썬</b> 프로그램으로 멋진 그림을 그리고, 계산을 하고, 간단한 게임을 만들고, 수학 문제를... '}]}"
      ]
     },
     "execution_count": 60,
     "metadata": {},
     "output_type": "execute_result"
    }
   ],
   "source": [
    "result = json.loads(response.read().decode('utf-8'))\n",
    "result"
   ]
  },
  {
   "cell_type": "code",
   "execution_count": 61,
   "id": "bcd26c7a",
   "metadata": {},
   "outputs": [
    {
     "data": {
      "text/plain": [
       "10"
      ]
     },
     "execution_count": 61,
     "metadata": {},
     "output_type": "execute_result"
    }
   ],
   "source": [
    "result['display']"
   ]
  },
  {
   "cell_type": "code",
   "execution_count": 62,
   "id": "a9ca6622",
   "metadata": {},
   "outputs": [
    {
     "data": {
      "text/plain": [
       "[{'title': '이것이 취업을 위한 코딩 테스트다 with <b>파이썬</b> (취업과 이직을 결정하는 알고리즘 인터뷰 완벽 가이드, C/C++, 자바 코드 제공)',\n",
       "  'link': 'http://book.naver.com/bookdb/book_detail.php?bid=16439154',\n",
       "  'image': 'https://bookthumb-phinf.pstatic.net/cover/164/391/16439154.jpg?type=m1&udate=20200928',\n",
       "  'author': '나동빈',\n",
       "  'price': '34000',\n",
       "  'discount': '30600',\n",
       "  'publisher': '한빛미디어',\n",
       "  'pubdate': '20200805',\n",
       "  'isbn': '1162243074 9791162243077',\n",
       "  'description': '8가지 핵심 알고리즘 이론을 쉽게 설명하고, 관련 실전 문제를 풀이했다. 출제 유형 분석, 이론 설명, 기출문제 풀이까지! 어떤 코딩 테스트도 이 책 한 권으로 대비할 수 있을 것이다. 코딩 테스트에서 주로 선택하는 <b>파이썬</b>을 기반으로 설명되어 있으며, <b>파이썬</b> 코드 외에도 C/C++, 자바 코드를 추가로 제공한다.'},\n",
       " {'title': '혼자 공부하는 <b>파이썬</b> (<b>파이썬</b> 최신 버전 반영)',\n",
       "  'link': 'http://book.naver.com/bookdb/book_detail.php?bid=15028688',\n",
       "  'image': 'https://bookthumb-phinf.pstatic.net/cover/150/286/15028688.jpg?type=m1&udate=20210809',\n",
       "  'author': '윤인성',\n",
       "  'price': '18000',\n",
       "  'discount': '16200',\n",
       "  'publisher': '한빛미디어',\n",
       "  'pubdate': '20190610',\n",
       "  'isbn': '1162241888 9791162241882',\n",
       "  'description': '1:1 과외하듯 배우는 <b>파이썬</b> 프로그래밍 자습서(<b>파이썬</b> 최신 버전 반영)\\n27명의 베타리더 검증으로, ‘함께 만든’ 입문자 맞춤형 도서\\n이 책은 독학으로 프로그래밍 언어를 처음 배우려는 입문자가, 혹은 <b>파이썬</b>을 배우려는 입문자가 ‘꼭 필요한 내용을 제대로’ 학습할 수 있도록 구성했다. ‘무엇을’... '},\n",
       " {'title': 'Do it! 점프 투 <b>파이썬</b>',\n",
       "  'link': 'http://book.naver.com/bookdb/book_detail.php?bid=15052904',\n",
       "  'image': 'https://bookthumb-phinf.pstatic.net/cover/150/529/15052904.jpg?type=m1&udate=20200910',\n",
       "  'author': '박응용',\n",
       "  'price': '18800',\n",
       "  'discount': '16900',\n",
       "  'publisher': '이지스퍼블리싱',\n",
       "  'pubdate': '20190620',\n",
       "  'isbn': '1163030910 9791163030911',\n",
       "  'description': '<b>파이썬</b> 4년 연속 베스트셀러 1위!\\n《DO IT! 점프 투 <b>파이썬</b>》 전면 개정판 출시!문과생도 중고등학생도 직장인도 프로그래밍에 눈뜨게 만든 바로 그 책이... 점프 투 <b>파이썬</b>》으로 출간되었던 이 책은 약 4년 동안의 피드백을 반영하여 초보자가 더 빠르게 입문하고, 더 깊이 있게 공부할 수 있도록 개정되었다.... '},\n",
       " {'title': '<b>파이썬</b> 알고리즘 인터뷰 (95가지 알고리즘 문제 풀이로 완성하는 코딩 테스트)',\n",
       "  'link': 'http://book.naver.com/bookdb/book_detail.php?bid=16406247',\n",
       "  'image': 'https://bookthumb-phinf.pstatic.net/cover/164/062/16406247.jpg?type=m1&udate=20201028',\n",
       "  'author': '박상길',\n",
       "  'price': '38000',\n",
       "  'discount': '34200',\n",
       "  'publisher': '책만',\n",
       "  'pubdate': '20200715',\n",
       "  'isbn': '1189909170 9791189909178',\n",
       "  'description': '물론, <b>파이썬</b>으로 구현하는 코드 풀이를 통해 성능 최적화 기법, <b>파이썬</b>의 핵심 문법과 다양한 실용 테크닉까지 배울 수 있는, 초보 개발자와 숙련 개발자... 이 책은 현업과 실무에 유용한 주요 알고리즘 이론을 깊숙이 이해하고, <b>파이썬</b>의 핵심 기능과 문법까지 상세하게 이해할 수 있는 취업용 코딩 테스트를... '},\n",
       " {'title': '<b>파이썬</b>(Python) 2학년 스크래핑의 구조 (체험으로 배우고! 대화 형식으로 공부!)',\n",
       "  'link': 'http://book.naver.com/bookdb/book_detail.php?bid=21259836',\n",
       "  'image': 'https://bookthumb-phinf.pstatic.net/cover/212/598/21259836.jpg?type=m1&udate=20211111',\n",
       "  'author': '모리 요시나오',\n",
       "  'price': '17000',\n",
       "  'discount': '15300',\n",
       "  'publisher': '성안당',\n",
       "  'pubdate': '20211117',\n",
       "  'isbn': '8931556896 9788931556896',\n",
       "  'description': '데이터 수집이나 해석, 분석에 대해 알기 쉽게 설명!<b>파이썬</b>은 인공지능의 기초 언어로 배우기 쉬우면서 각종 데이터 분석에 사용되는 프로그래밍 언어로 절정의 인기를 누리고 있다. 기존이 <b>파이썬</b>... 하는데, <b>파이썬</b>은 인터넷에 액세스할 수 있는 라이브러리가 풍부해 이 두가지 모두 쉽고 편하게 할 수... '},\n",
       " {'title': '<b>파이썬</b> 증권 데이터 분석 (<b>파이썬</b> 입문, 웹 스크레이핑, 트레이딩 전략, 자동 매매)',\n",
       "  'link': 'http://book.naver.com/bookdb/book_detail.php?bid=16381920',\n",
       "  'image': 'https://bookthumb-phinf.pstatic.net/cover/163/819/16381920.jpg?type=m1&udate=20201117',\n",
       "  'author': '김황후',\n",
       "  'price': '32000',\n",
       "  'discount': '28800',\n",
       "  'publisher': '한빛미디어',\n",
       "  'pubdate': '20200701',\n",
       "  'isbn': '1162243201 9791162243206',\n",
       "  'description': '투자 기법과 프로그래밍 기술로 &#x0D;자신만의 퀀트 투자 시스템을 완성하라&#x0D;&#x0D;『<b>파이썬</b> 증권 데이터 분석』은 웹 스크레이핑으로 증권 데이터를 주기적으로 자동 수집, 분석, 자동 매매, 예측하는 전 과정을 <b>파이썬</b>으로 직접 구현한다. 그 과정에서 금융 데이터 처리 기본 라이브러리(팬더스)부터 주가... '},\n",
       " {'title': '<b>파이썬</b> 머신러닝 완벽 가이드 (다양한 캐글 예제와 함께 기초 알고리즘부터 최신 기법까지 배우는)',\n",
       "  'link': 'http://book.naver.com/bookdb/book_detail.php?bid=16238302',\n",
       "  'image': 'https://bookthumb-phinf.pstatic.net/cover/162/383/16238302.jpg?type=m1&udate=20200423',\n",
       "  'author': '권철민',\n",
       "  'price': '38000',\n",
       "  'discount': '34200',\n",
       "  'publisher': '위키북스',\n",
       "  'pubdate': '20200207',\n",
       "  'isbn': '1158391927 9791158391928',\n",
       "  'description': '자세한 이론 설명과 <b>파이썬</b> 실습을 통해 머신러닝을 완벽하게 배울 수 있습니다!《<b>파이썬</b> 머신러닝 완벽 가이드》는 이론 위주의 머신러닝 책에서 탈피해 다양한 실전 예제를 직접 구현해 보면서 머신러닝을 체득할 수 있도록 만들었습니다.  캐글과 UCI 머신러닝 리포지토리에서 난이도가 있는 실습... '},\n",
       " {'title': '한 권으로 끝내는 <b>파이썬</b> 인공지능 입문 + 실전 종합편 (<b>파이썬</b>+넘파이+텐서플로우로 인공지능 딥러닝 직접 구현하기)',\n",
       "  'link': 'http://book.naver.com/bookdb/book_detail.php?bid=20937519',\n",
       "  'image': 'https://bookthumb-phinf.pstatic.net/cover/209/375/20937519.jpg?type=m1&udate=20211118',\n",
       "  'author': '서민우',\n",
       "  'price': '23000',\n",
       "  'discount': '20700',\n",
       "  'publisher': '앤써북',\n",
       "  'pubdate': '20210925',\n",
       "  'isbn': '118555386X 9791185553863',\n",
       "  'description': '〈한 권으로 끝내는 <b>파이썬</b> 인공지능 입문+실전(종합편)〉 책을 통해 <b>파이썬</b>, 넘파이, 텐서플로우를 이용하여 인공지능 일고리즘을 구현해 보면서... ㆍ 1단계 : 인공지능 딥러닝 이해 ㆍ 2단계 : <b>파이썬</b>으로 딥러닝 알고리즘 구현ㆍ 3단계 : 넘파이로 행렬기반 딥러닝 알고리즘 구현 ㆍ 4단계 : 직접 구현으로... '},\n",
       " {'title': '<b>파이썬</b>을 이용한 비트코인 자동매매 (실시간 자동매매 시스템 개발 입문, 개정판)',\n",
       "  'link': 'http://book.naver.com/bookdb/book_detail.php?bid=18214660',\n",
       "  'image': 'https://bookthumb-phinf.pstatic.net/cover/182/146/18214660.jpg?type=m1&udate=20210316',\n",
       "  'author': '유대표|조대표',\n",
       "  'price': '27000',\n",
       "  'discount': '24300',\n",
       "  'publisher': '파이스탁',\n",
       "  'pubdate': '20210322',\n",
       "  'isbn': '1196608814 9791196608811',\n",
       "  'description': '이 책은 최근 인기 있는 프로그래밍 언어인 <b>파이썬</b>을 사용하여 국내 3대 거래소(코빗, 빗썸, 업비트)... 프로그래밍 경험이 없는 일반인을 대상으로 <b>파이썬</b> 기초 문법부터 시작하여 24시간 실시간 자동... 있어 <b>파이썬</b>을 처음 배우는 분들이 유익하고 재미있게 프로그래밍을 배울 수 있도록 합니다. 책에서... '},\n",
       " {'title': '모두의 <b>파이썬</b> (20일 만에 배우는 프로그래밍 기초)',\n",
       "  'link': 'http://book.naver.com/bookdb/book_detail.php?bid=14126163',\n",
       "  'image': 'https://bookthumb-phinf.pstatic.net/cover/141/261/14126163.jpg?type=m1&udate=20210210',\n",
       "  'author': '이승찬',\n",
       "  'price': '12000',\n",
       "  'discount': '10800',\n",
       "  'publisher': '길벗',\n",
       "  'pubdate': '20181009',\n",
       "  'isbn': '1160505853 9791160505856',\n",
       "  'description': '<b>파이썬</b> 분야 & 어린이 코딩 교육 분야\\n2년 연속 베스트셀러! 개정판 출간!\\n즐겁게 시작하는 나의 첫 프로그래밍!\\n프로그래밍을 한 번도 해본 적이 없어도 괜찮다. <b>파이썬</b>이 무엇인지 몰라도 상관 없다.... 어느새 <b>파이썬</b> 프로그램으로 멋진 그림을 그리고, 계산을 하고, 간단한 게임을 만들고, 수학 문제를... '}]"
      ]
     },
     "execution_count": 62,
     "metadata": {},
     "output_type": "execute_result"
    }
   ],
   "source": [
    "result['items']"
   ]
  },
  {
   "cell_type": "code",
   "execution_count": 63,
   "id": "a9e17c44",
   "metadata": {},
   "outputs": [
    {
     "data": {
      "text/plain": [
       "10"
      ]
     },
     "execution_count": 63,
     "metadata": {},
     "output_type": "execute_result"
    }
   ],
   "source": [
    "len(result['items'])"
   ]
  },
  {
   "cell_type": "code",
   "execution_count": 64,
   "id": "297525a2",
   "metadata": {},
   "outputs": [
    {
     "data": {
      "text/plain": [
       "['이것이 취업을 위한 코딩 테스트다 with <b>파이썬</b> (취업과 이직을 결정하는 알고리즘 인터뷰 완벽 가이드, C/C++, 자바 코드 제공)',\n",
       " '혼자 공부하는 <b>파이썬</b> (<b>파이썬</b> 최신 버전 반영)',\n",
       " 'Do it! 점프 투 <b>파이썬</b>',\n",
       " '<b>파이썬</b> 알고리즘 인터뷰 (95가지 알고리즘 문제 풀이로 완성하는 코딩 테스트)',\n",
       " '<b>파이썬</b>(Python) 2학년 스크래핑의 구조 (체험으로 배우고! 대화 형식으로 공부!)',\n",
       " '<b>파이썬</b> 증권 데이터 분석 (<b>파이썬</b> 입문, 웹 스크레이핑, 트레이딩 전략, 자동 매매)',\n",
       " '<b>파이썬</b> 머신러닝 완벽 가이드 (다양한 캐글 예제와 함께 기초 알고리즘부터 최신 기법까지 배우는)',\n",
       " '한 권으로 끝내는 <b>파이썬</b> 인공지능 입문 + 실전 종합편 (<b>파이썬</b>+넘파이+텐서플로우로 인공지능 딥러닝 직접 구현하기)',\n",
       " '<b>파이썬</b>을 이용한 비트코인 자동매매 (실시간 자동매매 시스템 개발 입문, 개정판)',\n",
       " '모두의 <b>파이썬</b> (20일 만에 배우는 프로그래밍 기초)']"
      ]
     },
     "execution_count": 64,
     "metadata": {},
     "output_type": "execute_result"
    }
   ],
   "source": [
    "titles=[result['items'][n]['title'] for n in range(10)]\n",
    "titles"
   ]
  },
  {
   "cell_type": "code",
   "execution_count": 65,
   "id": "e37567b2",
   "metadata": {},
   "outputs": [],
   "source": [
    "def delete_tag(input_str):\n",
    "    input_str = input_str.replace(\"<b>\", \"\")\n",
    "    input_str = input_str.replace(\"</b\",\"\")\n",
    "    return input_str"
   ]
  },
  {
   "cell_type": "code",
   "execution_count": 66,
   "id": "05d187a3",
   "metadata": {},
   "outputs": [
    {
     "data": {
      "text/plain": [
       "'이것이 취업을 위한 코딩 테스트다 with 파이썬> (취업과 이직을 결정하는 알고리즘 인터뷰 완벽 가이드, C/C++, 자바 코드 제공)'"
      ]
     },
     "execution_count": 66,
     "metadata": {},
     "output_type": "execute_result"
    }
   ],
   "source": [
    "delete_tag(result['items'][0]['title'])"
   ]
  },
  {
   "cell_type": "code",
   "execution_count": 67,
   "id": "3a454819",
   "metadata": {},
   "outputs": [
    {
     "data": {
      "text/plain": [
       "['이것이 취업을 위한 코딩 테스트다 with 파이썬> (취업과 이직을 결정하는 알고리즘 인터뷰 완벽 가이드, C/C++, 자바 코드 제공)',\n",
       " '혼자 공부하는 파이썬> (파이썬> 최신 버전 반영)',\n",
       " 'Do it! 점프 투 파이썬>',\n",
       " '파이썬> 알고리즘 인터뷰 (95가지 알고리즘 문제 풀이로 완성하는 코딩 테스트)',\n",
       " '파이썬>(Python) 2학년 스크래핑의 구조 (체험으로 배우고! 대화 형식으로 공부!)',\n",
       " '파이썬> 증권 데이터 분석 (파이썬> 입문, 웹 스크레이핑, 트레이딩 전략, 자동 매매)',\n",
       " '파이썬> 머신러닝 완벽 가이드 (다양한 캐글 예제와 함께 기초 알고리즘부터 최신 기법까지 배우는)',\n",
       " '한 권으로 끝내는 파이썬> 인공지능 입문 + 실전 종합편 (파이썬>+넘파이+텐서플로우로 인공지능 딥러닝 직접 구현하기)',\n",
       " '파이썬>을 이용한 비트코인 자동매매 (실시간 자동매매 시스템 개발 입문, 개정판)',\n",
       " '모두의 파이썬> (20일 만에 배우는 프로그래밍 기초)']"
      ]
     },
     "execution_count": 67,
     "metadata": {},
     "output_type": "execute_result"
    }
   ],
   "source": [
    "titles=[delete_tag(result['items'][n]['title'])for n in range(10)]\n",
    "titles"
   ]
  },
  {
   "cell_type": "code",
   "execution_count": 68,
   "id": "a1b3cc3a",
   "metadata": {},
   "outputs": [
    {
     "data": {
      "text/plain": [
       "['나동빈', '윤인성', '박응용', '박상길', '모리 요시나오', '김황후', '권철민', '서민우', '유대표|조대표', '이승찬']"
      ]
     },
     "execution_count": 68,
     "metadata": {},
     "output_type": "execute_result"
    }
   ],
   "source": [
    "authors = [result['items'][n]['author']for n in range(10)]\n",
    "authors"
   ]
  },
  {
   "cell_type": "code",
   "execution_count": 69,
   "id": "f87e8345",
   "metadata": {},
   "outputs": [
    {
     "data": {
      "text/plain": [
       "['20200805',\n",
       " '20190610',\n",
       " '20190620',\n",
       " '20200715',\n",
       " '20211117',\n",
       " '20200701',\n",
       " '20200207',\n",
       " '20210925',\n",
       " '20210322',\n",
       " '20181009']"
      ]
     },
     "execution_count": 69,
     "metadata": {},
     "output_type": "execute_result"
    }
   ],
   "source": [
    "pubdates = [result['items'][n]['pubdate'] for n in range(10)]\n",
    "pubdates"
   ]
  },
  {
   "cell_type": "code",
   "execution_count": 70,
   "id": "13094c88",
   "metadata": {},
   "outputs": [],
   "source": [
    "import pandas as pd"
   ]
  },
  {
   "cell_type": "code",
   "execution_count": 71,
   "id": "700fca0b",
   "metadata": {},
   "outputs": [
    {
     "data": {
      "text/html": [
       "<div>\n",
       "<style scoped>\n",
       "    .dataframe tbody tr th:only-of-type {\n",
       "        vertical-align: middle;\n",
       "    }\n",
       "\n",
       "    .dataframe tbody tr th {\n",
       "        vertical-align: top;\n",
       "    }\n",
       "\n",
       "    .dataframe thead th {\n",
       "        text-align: right;\n",
       "    }\n",
       "</style>\n",
       "<table border=\"1\" class=\"dataframe\">\n",
       "  <thead>\n",
       "    <tr style=\"text-align: right;\">\n",
       "      <th></th>\n",
       "      <th>책제목</th>\n",
       "      <th>작가</th>\n",
       "      <th>출판일</th>\n",
       "    </tr>\n",
       "  </thead>\n",
       "  <tbody>\n",
       "    <tr>\n",
       "      <th>0</th>\n",
       "      <td>이것이 취업을 위한 코딩 테스트다 with 파이썬&gt; (취업과 이직을 결정하는 알고리...</td>\n",
       "      <td>나동빈</td>\n",
       "      <td>20200805</td>\n",
       "    </tr>\n",
       "    <tr>\n",
       "      <th>1</th>\n",
       "      <td>혼자 공부하는 파이썬&gt; (파이썬&gt; 최신 버전 반영)</td>\n",
       "      <td>윤인성</td>\n",
       "      <td>20190610</td>\n",
       "    </tr>\n",
       "    <tr>\n",
       "      <th>2</th>\n",
       "      <td>Do it! 점프 투 파이썬&gt;</td>\n",
       "      <td>박응용</td>\n",
       "      <td>20190620</td>\n",
       "    </tr>\n",
       "    <tr>\n",
       "      <th>3</th>\n",
       "      <td>파이썬&gt; 알고리즘 인터뷰 (95가지 알고리즘 문제 풀이로 완성하는 코딩 테스트)</td>\n",
       "      <td>박상길</td>\n",
       "      <td>20200715</td>\n",
       "    </tr>\n",
       "    <tr>\n",
       "      <th>4</th>\n",
       "      <td>파이썬&gt;(Python) 2학년 스크래핑의 구조 (체험으로 배우고! 대화 형식으로 공부!)</td>\n",
       "      <td>모리 요시나오</td>\n",
       "      <td>20211117</td>\n",
       "    </tr>\n",
       "    <tr>\n",
       "      <th>5</th>\n",
       "      <td>파이썬&gt; 증권 데이터 분석 (파이썬&gt; 입문, 웹 스크레이핑, 트레이딩 전략, 자동 매매)</td>\n",
       "      <td>김황후</td>\n",
       "      <td>20200701</td>\n",
       "    </tr>\n",
       "    <tr>\n",
       "      <th>6</th>\n",
       "      <td>파이썬&gt; 머신러닝 완벽 가이드 (다양한 캐글 예제와 함께 기초 알고리즘부터 최신 기...</td>\n",
       "      <td>권철민</td>\n",
       "      <td>20200207</td>\n",
       "    </tr>\n",
       "    <tr>\n",
       "      <th>7</th>\n",
       "      <td>한 권으로 끝내는 파이썬&gt; 인공지능 입문 + 실전 종합편 (파이썬&gt;+넘파이+텐서플로...</td>\n",
       "      <td>서민우</td>\n",
       "      <td>20210925</td>\n",
       "    </tr>\n",
       "    <tr>\n",
       "      <th>8</th>\n",
       "      <td>파이썬&gt;을 이용한 비트코인 자동매매 (실시간 자동매매 시스템 개발 입문, 개정판)</td>\n",
       "      <td>유대표|조대표</td>\n",
       "      <td>20210322</td>\n",
       "    </tr>\n",
       "    <tr>\n",
       "      <th>9</th>\n",
       "      <td>모두의 파이썬&gt; (20일 만에 배우는 프로그래밍 기초)</td>\n",
       "      <td>이승찬</td>\n",
       "      <td>20181009</td>\n",
       "    </tr>\n",
       "  </tbody>\n",
       "</table>\n",
       "</div>"
      ],
      "text/plain": [
       "                                                 책제목       작가       출판일\n",
       "0  이것이 취업을 위한 코딩 테스트다 with 파이썬> (취업과 이직을 결정하는 알고리...      나동빈  20200805\n",
       "1                       혼자 공부하는 파이썬> (파이썬> 최신 버전 반영)      윤인성  20190610\n",
       "2                                   Do it! 점프 투 파이썬>      박응용  20190620\n",
       "3       파이썬> 알고리즘 인터뷰 (95가지 알고리즘 문제 풀이로 완성하는 코딩 테스트)      박상길  20200715\n",
       "4  파이썬>(Python) 2학년 스크래핑의 구조 (체험으로 배우고! 대화 형식으로 공부!)  모리 요시나오  20211117\n",
       "5  파이썬> 증권 데이터 분석 (파이썬> 입문, 웹 스크레이핑, 트레이딩 전략, 자동 매매)      김황후  20200701\n",
       "6  파이썬> 머신러닝 완벽 가이드 (다양한 캐글 예제와 함께 기초 알고리즘부터 최신 기...      권철민  20200207\n",
       "7  한 권으로 끝내는 파이썬> 인공지능 입문 + 실전 종합편 (파이썬>+넘파이+텐서플로...      서민우  20210925\n",
       "8      파이썬>을 이용한 비트코인 자동매매 (실시간 자동매매 시스템 개발 입문, 개정판)  유대표|조대표  20210322\n",
       "9                     모두의 파이썬> (20일 만에 배우는 프로그래밍 기초)      이승찬  20181009"
      ]
     },
     "execution_count": 71,
     "metadata": {},
     "output_type": "execute_result"
    }
   ],
   "source": [
    "pd.DataFrame({'책제목':titles,'작가':authors,\"출판일\":pubdates})"
   ]
  },
  {
   "cell_type": "code",
   "execution_count": 72,
   "id": "806927e2",
   "metadata": {},
   "outputs": [],
   "source": [
    "def get_dataframe(url):\n",
    "    request = urllib.request.Request(url)\n",
    "    request.add_header(\"X-Naver-Client-Id\", client_id)\n",
    "    request.add_header(\"X-Naver-Client-Secret\", client_secret)\n",
    "    response = urllib.request.urlopen(request)\n",
    "    result = json.loads(response.read().decode('utf-8'))\n",
    "    end_num = result['display']\n",
    "    titles=[delete_tag(result['items'][n]['title']) for n in range(end_num)]\n",
    "    authors = [result['items'][n]['author'] for n in range(end_num)]\n",
    "    pubdates = [result['items'][n]['pubdate'] for n in range(end_num)]\n",
    "    \n",
    "    \n",
    "    return pd.DataFrame({'책제목':titles, '작가':authors, '출판일':pubdates})"
   ]
  },
  {
   "cell_type": "code",
   "execution_count": 73,
   "id": "bf4e0302",
   "metadata": {},
   "outputs": [
    {
     "data": {
      "text/plain": [
       "'https://openapi.naver.com/v1/search/book.json?query=%ED%8C%8C%EC%9D%B4%EC%8D%AC&start=1&display=10'"
      ]
     },
     "execution_count": 73,
     "metadata": {},
     "output_type": "execute_result"
    }
   ],
   "source": [
    "url"
   ]
  },
  {
   "cell_type": "code",
   "execution_count": 74,
   "id": "5fb64721",
   "metadata": {},
   "outputs": [
    {
     "data": {
      "text/html": [
       "<div>\n",
       "<style scoped>\n",
       "    .dataframe tbody tr th:only-of-type {\n",
       "        vertical-align: middle;\n",
       "    }\n",
       "\n",
       "    .dataframe tbody tr th {\n",
       "        vertical-align: top;\n",
       "    }\n",
       "\n",
       "    .dataframe thead th {\n",
       "        text-align: right;\n",
       "    }\n",
       "</style>\n",
       "<table border=\"1\" class=\"dataframe\">\n",
       "  <thead>\n",
       "    <tr style=\"text-align: right;\">\n",
       "      <th></th>\n",
       "      <th>책제목</th>\n",
       "      <th>작가</th>\n",
       "      <th>출판일</th>\n",
       "    </tr>\n",
       "  </thead>\n",
       "  <tbody>\n",
       "    <tr>\n",
       "      <th>0</th>\n",
       "      <td>이것이 취업을 위한 코딩 테스트다 with 파이썬&gt; (취업과 이직을 결정하는 알고리...</td>\n",
       "      <td>나동빈</td>\n",
       "      <td>20200805</td>\n",
       "    </tr>\n",
       "    <tr>\n",
       "      <th>1</th>\n",
       "      <td>혼자 공부하는 파이썬&gt; (파이썬&gt; 최신 버전 반영)</td>\n",
       "      <td>윤인성</td>\n",
       "      <td>20190610</td>\n",
       "    </tr>\n",
       "    <tr>\n",
       "      <th>2</th>\n",
       "      <td>Do it! 점프 투 파이썬&gt;</td>\n",
       "      <td>박응용</td>\n",
       "      <td>20190620</td>\n",
       "    </tr>\n",
       "    <tr>\n",
       "      <th>3</th>\n",
       "      <td>파이썬&gt; 알고리즘 인터뷰 (95가지 알고리즘 문제 풀이로 완성하는 코딩 테스트)</td>\n",
       "      <td>박상길</td>\n",
       "      <td>20200715</td>\n",
       "    </tr>\n",
       "    <tr>\n",
       "      <th>4</th>\n",
       "      <td>파이썬&gt;(Python) 2학년 스크래핑의 구조 (체험으로 배우고! 대화 형식으로 공부!)</td>\n",
       "      <td>모리 요시나오</td>\n",
       "      <td>20211117</td>\n",
       "    </tr>\n",
       "    <tr>\n",
       "      <th>5</th>\n",
       "      <td>파이썬&gt; 증권 데이터 분석 (파이썬&gt; 입문, 웹 스크레이핑, 트레이딩 전략, 자동 매매)</td>\n",
       "      <td>김황후</td>\n",
       "      <td>20200701</td>\n",
       "    </tr>\n",
       "    <tr>\n",
       "      <th>6</th>\n",
       "      <td>파이썬&gt; 머신러닝 완벽 가이드 (다양한 캐글 예제와 함께 기초 알고리즘부터 최신 기...</td>\n",
       "      <td>권철민</td>\n",
       "      <td>20200207</td>\n",
       "    </tr>\n",
       "    <tr>\n",
       "      <th>7</th>\n",
       "      <td>한 권으로 끝내는 파이썬&gt; 인공지능 입문 + 실전 종합편 (파이썬&gt;+넘파이+텐서플로...</td>\n",
       "      <td>서민우</td>\n",
       "      <td>20210925</td>\n",
       "    </tr>\n",
       "    <tr>\n",
       "      <th>8</th>\n",
       "      <td>파이썬&gt;을 이용한 비트코인 자동매매 (실시간 자동매매 시스템 개발 입문, 개정판)</td>\n",
       "      <td>유대표|조대표</td>\n",
       "      <td>20210322</td>\n",
       "    </tr>\n",
       "    <tr>\n",
       "      <th>9</th>\n",
       "      <td>모두의 파이썬&gt; (20일 만에 배우는 프로그래밍 기초)</td>\n",
       "      <td>이승찬</td>\n",
       "      <td>20181009</td>\n",
       "    </tr>\n",
       "  </tbody>\n",
       "</table>\n",
       "</div>"
      ],
      "text/plain": [
       "                                                 책제목       작가       출판일\n",
       "0  이것이 취업을 위한 코딩 테스트다 with 파이썬> (취업과 이직을 결정하는 알고리...      나동빈  20200805\n",
       "1                       혼자 공부하는 파이썬> (파이썬> 최신 버전 반영)      윤인성  20190610\n",
       "2                                   Do it! 점프 투 파이썬>      박응용  20190620\n",
       "3       파이썬> 알고리즘 인터뷰 (95가지 알고리즘 문제 풀이로 완성하는 코딩 테스트)      박상길  20200715\n",
       "4  파이썬>(Python) 2학년 스크래핑의 구조 (체험으로 배우고! 대화 형식으로 공부!)  모리 요시나오  20211117\n",
       "5  파이썬> 증권 데이터 분석 (파이썬> 입문, 웹 스크레이핑, 트레이딩 전략, 자동 매매)      김황후  20200701\n",
       "6  파이썬> 머신러닝 완벽 가이드 (다양한 캐글 예제와 함께 기초 알고리즘부터 최신 기...      권철민  20200207\n",
       "7  한 권으로 끝내는 파이썬> 인공지능 입문 + 실전 종합편 (파이썬>+넘파이+텐서플로...      서민우  20210925\n",
       "8      파이썬>을 이용한 비트코인 자동매매 (실시간 자동매매 시스템 개발 입문, 개정판)  유대표|조대표  20210322\n",
       "9                     모두의 파이썬> (20일 만에 배우는 프로그래밍 기초)      이승찬  20181009"
      ]
     },
     "execution_count": 74,
     "metadata": {},
     "output_type": "execute_result"
    }
   ],
   "source": [
    "get_dataframe(url)"
   ]
  },
  {
   "cell_type": "code",
   "execution_count": 167,
   "id": "c0d81e09",
   "metadata": {},
   "outputs": [],
   "source": [
    "result_search=[]\n",
    "\n",
    "for n in range(1,1000, 100):\n",
    "       url = create_url(\"book\",\"파이썬\", n , 100)\n",
    "       result_search.append(get_dataframe(url))\n",
    "    \n",
    "result_search = pd.concat(result_search)"
   ]
  },
  {
   "cell_type": "code",
   "execution_count": 168,
   "id": "240263e5",
   "metadata": {},
   "outputs": [
    {
     "data": {
      "text/html": [
       "<div>\n",
       "<style scoped>\n",
       "    .dataframe tbody tr th:only-of-type {\n",
       "        vertical-align: middle;\n",
       "    }\n",
       "\n",
       "    .dataframe tbody tr th {\n",
       "        vertical-align: top;\n",
       "    }\n",
       "\n",
       "    .dataframe thead th {\n",
       "        text-align: right;\n",
       "    }\n",
       "</style>\n",
       "<table border=\"1\" class=\"dataframe\">\n",
       "  <thead>\n",
       "    <tr style=\"text-align: right;\">\n",
       "      <th></th>\n",
       "      <th>책제목</th>\n",
       "      <th>작가</th>\n",
       "      <th>출판일</th>\n",
       "    </tr>\n",
       "  </thead>\n",
       "  <tbody>\n",
       "    <tr>\n",
       "      <th>0</th>\n",
       "      <td>이것이 취업을 위한 코딩 테스트다 with 파이썬&gt; (취업과 이직을 결정하는 알고리...</td>\n",
       "      <td>나동빈</td>\n",
       "      <td>20200805</td>\n",
       "    </tr>\n",
       "    <tr>\n",
       "      <th>1</th>\n",
       "      <td>혼자 공부하는 파이썬&gt; (파이썬&gt; 최신 버전 반영)</td>\n",
       "      <td>윤인성</td>\n",
       "      <td>20190610</td>\n",
       "    </tr>\n",
       "    <tr>\n",
       "      <th>2</th>\n",
       "      <td>Do it! 점프 투 파이썬&gt;</td>\n",
       "      <td>박응용</td>\n",
       "      <td>20190620</td>\n",
       "    </tr>\n",
       "    <tr>\n",
       "      <th>3</th>\n",
       "      <td>파이썬&gt; 알고리즘 인터뷰 (95가지 알고리즘 문제 풀이로 완성하는 코딩 테스트)</td>\n",
       "      <td>박상길</td>\n",
       "      <td>20200715</td>\n",
       "    </tr>\n",
       "    <tr>\n",
       "      <th>4</th>\n",
       "      <td>파이썬&gt;(Python) 2학년 스크래핑의 구조 (체험으로 배우고! 대화 형식으로 공부!)</td>\n",
       "      <td>모리 요시나오</td>\n",
       "      <td>20211117</td>\n",
       "    </tr>\n",
       "  </tbody>\n",
       "</table>\n",
       "</div>"
      ],
      "text/plain": [
       "                                                 책제목       작가       출판일\n",
       "0  이것이 취업을 위한 코딩 테스트다 with 파이썬> (취업과 이직을 결정하는 알고리...      나동빈  20200805\n",
       "1                       혼자 공부하는 파이썬> (파이썬> 최신 버전 반영)      윤인성  20190610\n",
       "2                                   Do it! 점프 투 파이썬>      박응용  20190620\n",
       "3       파이썬> 알고리즘 인터뷰 (95가지 알고리즘 문제 풀이로 완성하는 코딩 테스트)      박상길  20200715\n",
       "4  파이썬>(Python) 2학년 스크래핑의 구조 (체험으로 배우고! 대화 형식으로 공부!)  모리 요시나오  20211117"
      ]
     },
     "execution_count": 168,
     "metadata": {},
     "output_type": "execute_result"
    }
   ],
   "source": [
    "result_search.head()"
   ]
  },
  {
   "cell_type": "code",
   "execution_count": 169,
   "id": "3ca42f35",
   "metadata": {},
   "outputs": [
    {
     "name": "stdout",
     "output_type": "stream",
     "text": [
      "<class 'pandas.core.frame.DataFrame'>\n",
      "Int64Index: 1000 entries, 0 to 99\n",
      "Data columns (total 3 columns):\n",
      " #   Column  Non-Null Count  Dtype \n",
      "---  ------  --------------  ----- \n",
      " 0   책제목     1000 non-null   object\n",
      " 1   작가      1000 non-null   object\n",
      " 2   출판일     1000 non-null   object\n",
      "dtypes: object(3)\n",
      "memory usage: 19.5+ KB\n"
     ]
    }
   ],
   "source": [
    "result_search.info()"
   ]
  },
  {
   "cell_type": "code",
   "execution_count": 170,
   "id": "98f1e444",
   "metadata": {},
   "outputs": [
    {
     "data": {
      "text/html": [
       "<div>\n",
       "<style scoped>\n",
       "    .dataframe tbody tr th:only-of-type {\n",
       "        vertical-align: middle;\n",
       "    }\n",
       "\n",
       "    .dataframe tbody tr th {\n",
       "        vertical-align: top;\n",
       "    }\n",
       "\n",
       "    .dataframe thead th {\n",
       "        text-align: right;\n",
       "    }\n",
       "</style>\n",
       "<table border=\"1\" class=\"dataframe\">\n",
       "  <thead>\n",
       "    <tr style=\"text-align: right;\">\n",
       "      <th></th>\n",
       "      <th>index</th>\n",
       "      <th>책제목</th>\n",
       "      <th>작가</th>\n",
       "      <th>출판일</th>\n",
       "    </tr>\n",
       "  </thead>\n",
       "  <tbody>\n",
       "    <tr>\n",
       "      <th>0</th>\n",
       "      <td>0</td>\n",
       "      <td>이것이 취업을 위한 코딩 테스트다 with 파이썬&gt; (취업과 이직을 결정하는 알고리...</td>\n",
       "      <td>나동빈</td>\n",
       "      <td>20200805</td>\n",
       "    </tr>\n",
       "    <tr>\n",
       "      <th>1</th>\n",
       "      <td>1</td>\n",
       "      <td>혼자 공부하는 파이썬&gt; (파이썬&gt; 최신 버전 반영)</td>\n",
       "      <td>윤인성</td>\n",
       "      <td>20190610</td>\n",
       "    </tr>\n",
       "    <tr>\n",
       "      <th>2</th>\n",
       "      <td>2</td>\n",
       "      <td>Do it! 점프 투 파이썬&gt;</td>\n",
       "      <td>박응용</td>\n",
       "      <td>20190620</td>\n",
       "    </tr>\n",
       "    <tr>\n",
       "      <th>3</th>\n",
       "      <td>3</td>\n",
       "      <td>파이썬&gt; 알고리즘 인터뷰 (95가지 알고리즘 문제 풀이로 완성하는 코딩 테스트)</td>\n",
       "      <td>박상길</td>\n",
       "      <td>20200715</td>\n",
       "    </tr>\n",
       "    <tr>\n",
       "      <th>4</th>\n",
       "      <td>4</td>\n",
       "      <td>파이썬&gt;(Python) 2학년 스크래핑의 구조 (체험으로 배우고! 대화 형식으로 공부!)</td>\n",
       "      <td>모리 요시나오</td>\n",
       "      <td>20211117</td>\n",
       "    </tr>\n",
       "    <tr>\n",
       "      <th>...</th>\n",
       "      <td>...</td>\n",
       "      <td>...</td>\n",
       "      <td>...</td>\n",
       "      <td>...</td>\n",
       "    </tr>\n",
       "    <tr>\n",
       "      <th>995</th>\n",
       "      <td>95</td>\n",
       "      <td>Deep Learning Cookbook (빠르게 실무에 적용할 수 있는 딥러닝으로...</td>\n",
       "      <td>Douwe Osinga</td>\n",
       "      <td>20190107</td>\n",
       "    </tr>\n",
       "    <tr>\n",
       "      <th>996</th>\n",
       "      <td>96</td>\n",
       "      <td>재무빅데이터 분석사 2급 (하)</td>\n",
       "      <td>김태식</td>\n",
       "      <td>20200207</td>\n",
       "    </tr>\n",
       "    <tr>\n",
       "      <th>997</th>\n",
       "      <td>97</td>\n",
       "      <td>Make: 아두이노 DIY 프로젝트</td>\n",
       "      <td>키모 카르비넨|테로 카르비넨</td>\n",
       "      <td>20140106</td>\n",
       "    </tr>\n",
       "    <tr>\n",
       "      <th>998</th>\n",
       "      <td>98</td>\n",
       "      <td>Spark와 머신 러닝 (빅데이터 분석과 예측 모델 트레이닝을 위한)</td>\n",
       "      <td>닉 펜트레스</td>\n",
       "      <td>20160104</td>\n",
       "    </tr>\n",
       "    <tr>\n",
       "      <th>999</th>\n",
       "      <td>99</td>\n",
       "      <td>텐서플로우 원리와 응용 (예제로 풀어보는)</td>\n",
       "      <td>황원지앤|탕위앤</td>\n",
       "      <td>20181102</td>\n",
       "    </tr>\n",
       "  </tbody>\n",
       "</table>\n",
       "<p>1000 rows × 4 columns</p>\n",
       "</div>"
      ],
      "text/plain": [
       "     index                                                책제목  \\\n",
       "0        0  이것이 취업을 위한 코딩 테스트다 with 파이썬> (취업과 이직을 결정하는 알고리...   \n",
       "1        1                       혼자 공부하는 파이썬> (파이썬> 최신 버전 반영)   \n",
       "2        2                                   Do it! 점프 투 파이썬>   \n",
       "3        3       파이썬> 알고리즘 인터뷰 (95가지 알고리즘 문제 풀이로 완성하는 코딩 테스트)   \n",
       "4        4  파이썬>(Python) 2학년 스크래핑의 구조 (체험으로 배우고! 대화 형식으로 공부!)   \n",
       "..     ...                                                ...   \n",
       "995     95  Deep Learning Cookbook (빠르게 실무에 적용할 수 있는 딥러닝으로...   \n",
       "996     96                                  재무빅데이터 분석사 2급 (하)   \n",
       "997     97                                Make: 아두이노 DIY 프로젝트   \n",
       "998     98             Spark와 머신 러닝 (빅데이터 분석과 예측 모델 트레이닝을 위한)   \n",
       "999     99                            텐서플로우 원리와 응용 (예제로 풀어보는)   \n",
       "\n",
       "                  작가       출판일  \n",
       "0                나동빈  20200805  \n",
       "1                윤인성  20190610  \n",
       "2                박응용  20190620  \n",
       "3                박상길  20200715  \n",
       "4            모리 요시나오  20211117  \n",
       "..               ...       ...  \n",
       "995     Douwe Osinga  20190107  \n",
       "996              김태식  20200207  \n",
       "997  키모 카르비넨|테로 카르비넨  20140106  \n",
       "998           닉 펜트레스  20160104  \n",
       "999         황원지앤|탕위앤  20181102  \n",
       "\n",
       "[1000 rows x 4 columns]"
      ]
     },
     "execution_count": 170,
     "metadata": {},
     "output_type": "execute_result"
    }
   ],
   "source": [
    "result_search.reset_index()"
   ]
  },
  {
   "cell_type": "code",
   "execution_count": 171,
   "id": "6639c150",
   "metadata": {},
   "outputs": [],
   "source": [
    "result_search.reset_index(drop=True, inplace = True)"
   ]
  },
  {
   "cell_type": "code",
   "execution_count": 172,
   "id": "ae33a0c1",
   "metadata": {},
   "outputs": [
    {
     "data": {
      "text/html": [
       "<div>\n",
       "<style scoped>\n",
       "    .dataframe tbody tr th:only-of-type {\n",
       "        vertical-align: middle;\n",
       "    }\n",
       "\n",
       "    .dataframe tbody tr th {\n",
       "        vertical-align: top;\n",
       "    }\n",
       "\n",
       "    .dataframe thead th {\n",
       "        text-align: right;\n",
       "    }\n",
       "</style>\n",
       "<table border=\"1\" class=\"dataframe\">\n",
       "  <thead>\n",
       "    <tr style=\"text-align: right;\">\n",
       "      <th></th>\n",
       "      <th>책제목</th>\n",
       "      <th>작가</th>\n",
       "      <th>출판일</th>\n",
       "    </tr>\n",
       "  </thead>\n",
       "  <tbody>\n",
       "    <tr>\n",
       "      <th>0</th>\n",
       "      <td>이것이 취업을 위한 코딩 테스트다 with 파이썬&gt; (취업과 이직을 결정하는 알고리...</td>\n",
       "      <td>나동빈</td>\n",
       "      <td>20200805</td>\n",
       "    </tr>\n",
       "    <tr>\n",
       "      <th>1</th>\n",
       "      <td>혼자 공부하는 파이썬&gt; (파이썬&gt; 최신 버전 반영)</td>\n",
       "      <td>윤인성</td>\n",
       "      <td>20190610</td>\n",
       "    </tr>\n",
       "    <tr>\n",
       "      <th>2</th>\n",
       "      <td>Do it! 점프 투 파이썬&gt;</td>\n",
       "      <td>박응용</td>\n",
       "      <td>20190620</td>\n",
       "    </tr>\n",
       "    <tr>\n",
       "      <th>3</th>\n",
       "      <td>파이썬&gt; 알고리즘 인터뷰 (95가지 알고리즘 문제 풀이로 완성하는 코딩 테스트)</td>\n",
       "      <td>박상길</td>\n",
       "      <td>20200715</td>\n",
       "    </tr>\n",
       "    <tr>\n",
       "      <th>4</th>\n",
       "      <td>파이썬&gt;(Python) 2학년 스크래핑의 구조 (체험으로 배우고! 대화 형식으로 공부!)</td>\n",
       "      <td>모리 요시나오</td>\n",
       "      <td>20211117</td>\n",
       "    </tr>\n",
       "    <tr>\n",
       "      <th>...</th>\n",
       "      <td>...</td>\n",
       "      <td>...</td>\n",
       "      <td>...</td>\n",
       "    </tr>\n",
       "    <tr>\n",
       "      <th>995</th>\n",
       "      <td>Deep Learning Cookbook (빠르게 실무에 적용할 수 있는 딥러닝으로...</td>\n",
       "      <td>Douwe Osinga</td>\n",
       "      <td>20190107</td>\n",
       "    </tr>\n",
       "    <tr>\n",
       "      <th>996</th>\n",
       "      <td>재무빅데이터 분석사 2급 (하)</td>\n",
       "      <td>김태식</td>\n",
       "      <td>20200207</td>\n",
       "    </tr>\n",
       "    <tr>\n",
       "      <th>997</th>\n",
       "      <td>Make: 아두이노 DIY 프로젝트</td>\n",
       "      <td>키모 카르비넨|테로 카르비넨</td>\n",
       "      <td>20140106</td>\n",
       "    </tr>\n",
       "    <tr>\n",
       "      <th>998</th>\n",
       "      <td>Spark와 머신 러닝 (빅데이터 분석과 예측 모델 트레이닝을 위한)</td>\n",
       "      <td>닉 펜트레스</td>\n",
       "      <td>20160104</td>\n",
       "    </tr>\n",
       "    <tr>\n",
       "      <th>999</th>\n",
       "      <td>텐서플로우 원리와 응용 (예제로 풀어보는)</td>\n",
       "      <td>황원지앤|탕위앤</td>\n",
       "      <td>20181102</td>\n",
       "    </tr>\n",
       "  </tbody>\n",
       "</table>\n",
       "<p>1000 rows × 3 columns</p>\n",
       "</div>"
      ],
      "text/plain": [
       "                                                   책제목               작가  \\\n",
       "0    이것이 취업을 위한 코딩 테스트다 with 파이썬> (취업과 이직을 결정하는 알고리...              나동빈   \n",
       "1                         혼자 공부하는 파이썬> (파이썬> 최신 버전 반영)              윤인성   \n",
       "2                                     Do it! 점프 투 파이썬>              박응용   \n",
       "3         파이썬> 알고리즘 인터뷰 (95가지 알고리즘 문제 풀이로 완성하는 코딩 테스트)              박상길   \n",
       "4    파이썬>(Python) 2학년 스크래핑의 구조 (체험으로 배우고! 대화 형식으로 공부!)          모리 요시나오   \n",
       "..                                                 ...              ...   \n",
       "995  Deep Learning Cookbook (빠르게 실무에 적용할 수 있는 딥러닝으로...     Douwe Osinga   \n",
       "996                                  재무빅데이터 분석사 2급 (하)              김태식   \n",
       "997                                Make: 아두이노 DIY 프로젝트  키모 카르비넨|테로 카르비넨   \n",
       "998             Spark와 머신 러닝 (빅데이터 분석과 예측 모델 트레이닝을 위한)           닉 펜트레스   \n",
       "999                            텐서플로우 원리와 응용 (예제로 풀어보는)         황원지앤|탕위앤   \n",
       "\n",
       "          출판일  \n",
       "0    20200805  \n",
       "1    20190610  \n",
       "2    20190620  \n",
       "3    20200715  \n",
       "4    20211117  \n",
       "..        ...  \n",
       "995  20190107  \n",
       "996  20200207  \n",
       "997  20140106  \n",
       "998  20160104  \n",
       "999  20181102  \n",
       "\n",
       "[1000 rows x 3 columns]"
      ]
     },
     "execution_count": 172,
     "metadata": {},
     "output_type": "execute_result"
    }
   ],
   "source": [
    "result_search"
   ]
  },
  {
   "cell_type": "code",
   "execution_count": 173,
   "id": "c99af92f",
   "metadata": {},
   "outputs": [
    {
     "name": "stdout",
     "output_type": "stream",
     "text": [
      "<class 'pandas.core.frame.DataFrame'>\n",
      "RangeIndex: 1000 entries, 0 to 999\n",
      "Data columns (total 3 columns):\n",
      " #   Column  Non-Null Count  Dtype \n",
      "---  ------  --------------  ----- \n",
      " 0   책제목     1000 non-null   object\n",
      " 1   작가      1000 non-null   object\n",
      " 2   출판일     1000 non-null   object\n",
      "dtypes: object(3)\n",
      "memory usage: 11.8+ KB\n"
     ]
    }
   ],
   "source": [
    "result_search.info()"
   ]
  },
  {
   "cell_type": "code",
   "execution_count": 174,
   "id": "3bc78713",
   "metadata": {},
   "outputs": [
    {
     "name": "stdout",
     "output_type": "stream",
     "text": [
      "Requirement already satisfied: xlsxwriter in c:\\pyton\\lib\\site-packages (1.3.8)\n"
     ]
    }
   ],
   "source": [
    "!pip install xlsxwriter"
   ]
  },
  {
   "cell_type": "code",
   "execution_count": 175,
   "id": "39654436",
   "metadata": {},
   "outputs": [],
   "source": [
    "writer = pd.ExcelWriter(\"./data/info.xlsx\", engine='xlsxwriter')\n",
    "result_search.to_excel(writer, sheet_name='Sheet1')\n",
    "\n",
    "workbook = writer.book\n",
    "worksheet = writer.sheets['Sheet1']\n",
    "\n",
    "format_center = workbook.add_format({'text_wrap':True})\n",
    "format_center.set_align('center')\n",
    "format_center.set_align('vcenter')\n",
    "\n",
    "worksheet.set_column('A:A', 5,  format_center)\n",
    "worksheet.set_column('B:B', 90, format_center)\n",
    "worksheet.set_column('C:C', 40, format_center) #format_center == 센터정렬\n",
    "worksheet.set_column('D:D', 15, format_center)\n",
    "\n",
    "writer.save()"
   ]
  },
  {
   "cell_type": "code",
   "execution_count": 176,
   "id": "d22e02e6",
   "metadata": {},
   "outputs": [
    {
     "data": {
      "text/plain": [
       "'https://openapi.naver.com/v1/search/book.json?query=%ED%8C%8C%EC%9D%B4%EC%8D%AC&start=901&display=100'"
      ]
     },
     "execution_count": 176,
     "metadata": {},
     "output_type": "execute_result"
    }
   ],
   "source": [
    "url"
   ]
  },
  {
   "cell_type": "code",
   "execution_count": null,
   "id": "2477ce8b",
   "metadata": {},
   "outputs": [],
   "source": []
  },
  {
   "cell_type": "code",
   "execution_count": null,
   "id": "61d51588",
   "metadata": {},
   "outputs": [],
   "source": []
  }
 ],
 "metadata": {
  "kernelspec": {
   "display_name": "Python 3",
   "language": "python",
   "name": "python3"
  },
  "language_info": {
   "codemirror_mode": {
    "name": "ipython",
    "version": 3
   },
   "file_extension": ".py",
   "mimetype": "text/x-python",
   "name": "python",
   "nbconvert_exporter": "python",
   "pygments_lexer": "ipython3",
   "version": "3.8.8"
  }
 },
 "nbformat": 4,
 "nbformat_minor": 5
}
