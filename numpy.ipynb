{
 "cells": [
  {
   "cell_type": "code",
   "execution_count": 5,
   "id": "e7ef36b1",
   "metadata": {},
   "outputs": [],
   "source": [
    "import numpy as np"
   ]
  },
  {
   "cell_type": "code",
   "execution_count": 8,
   "id": "460bdc77",
   "metadata": {},
   "outputs": [
    {
     "name": "stdout",
     "output_type": "stream",
     "text": [
      "[ 0  1  2  3  4  5  6  7  8  9 10]\n"
     ]
    }
   ],
   "source": [
    "my_list = [0,1,2,3,4,5,6,7,8,9,10]\n",
    "nparr = np.array(my_list)\n",
    "print(nparr)"
   ]
  },
  {
   "cell_type": "code",
   "execution_count": 15,
   "id": "9a452935",
   "metadata": {},
   "outputs": [],
   "source": [
    "nparr = np.arange(0,11) #11이전까지"
   ]
  },
  {
   "cell_type": "code",
   "execution_count": 16,
   "id": "4badfa3f",
   "metadata": {},
   "outputs": [
    {
     "name": "stdout",
     "output_type": "stream",
     "text": [
      "[ 0  1  2  3  4  5  6  7  8  9 10]\n"
     ]
    }
   ],
   "source": [
    "print(nparr)"
   ]
  },
  {
   "cell_type": "code",
   "execution_count": 18,
   "id": "ebb9de67",
   "metadata": {},
   "outputs": [
    {
     "name": "stdout",
     "output_type": "stream",
     "text": [
      "[ 0  2  4  6  8 10 12 14 16 18 20]\n"
     ]
    }
   ],
   "source": [
    "nparr_added = nparr+nparr  #배열의 값들 더함\n",
    "print(nparr_added)"
   ]
  },
  {
   "cell_type": "code",
   "execution_count": 19,
   "id": "01127355",
   "metadata": {},
   "outputs": [
    {
     "name": "stdout",
     "output_type": "stream",
     "text": [
      "[0 0 0 0 0 0 0 0 0 0 0]\n"
     ]
    }
   ],
   "source": [
    "nparr_sub = nparr-nparr\n",
    "print(nparr_sub)"
   ]
  },
  {
   "cell_type": "code",
   "execution_count": 20,
   "id": "ae5339e8",
   "metadata": {},
   "outputs": [
    {
     "name": "stdout",
     "output_type": "stream",
     "text": [
      "[  0   1   4   9  16  25  36  49  64  81 100]\n"
     ]
    }
   ],
   "source": [
    "nparr_mult = nparr * nparr\n",
    "print(nparr_mult)"
   ]
  },
  {
   "cell_type": "code",
   "execution_count": 21,
   "id": "19275abd",
   "metadata": {},
   "outputs": [
    {
     "name": "stdout",
     "output_type": "stream",
     "text": [
      "[nan  1.  1.  1.  1.  1.  1.  1.  1.  1.  1.]\n"
     ]
    },
    {
     "name": "stderr",
     "output_type": "stream",
     "text": [
      "<ipython-input-21-ac3be0a7341d>:1: RuntimeWarning: invalid value encountered in true_divide\n",
      "  nparr_div = nparr / nparr\n"
     ]
    }
   ],
   "source": [
    "nparr_div = nparr / nparr\n",
    "print(nparr_div)"
   ]
  },
  {
   "cell_type": "code",
   "execution_count": 23,
   "id": "3473afa7",
   "metadata": {},
   "outputs": [
    {
     "name": "stdout",
     "output_type": "stream",
     "text": [
      "[  0  10  20  30  40  50  60  70  80  90 100]\n"
     ]
    }
   ],
   "source": [
    "nparr_esc = nparr * 10 #각 원소에 곱하기 10\n",
    "print(nparr_esc)"
   ]
  },
  {
   "cell_type": "code",
   "execution_count": 24,
   "id": "25027634",
   "metadata": {},
   "outputs": [
    {
     "name": "stdout",
     "output_type": "stream",
     "text": [
      "[       inf 1.         0.5        0.33333333 0.25       0.2\n",
      " 0.16666667 0.14285714 0.125      0.11111111 0.1       ]\n"
     ]
    },
    {
     "name": "stderr",
     "output_type": "stream",
     "text": [
      "<ipython-input-24-3d17f1fc195b>:1: RuntimeWarning: divide by zero encountered in true_divide\n",
      "  nparr_one_div = 1/nparr\n"
     ]
    }
   ],
   "source": [
    "nparr_one_div = 1/nparr\n",
    "print(nparr_one_div)"
   ]
  },
  {
   "cell_type": "code",
   "execution_count": 26,
   "id": "dd49dada",
   "metadata": {},
   "outputs": [
    {
     "name": "stdout",
     "output_type": "stream",
     "text": [
      "10\n"
     ]
    }
   ],
   "source": [
    "nparr_max = np.max(nparr) #최대값 도출\n",
    "print(nparr_max)"
   ]
  },
  {
   "cell_type": "code",
   "execution_count": 28,
   "id": "206a721a",
   "metadata": {},
   "outputs": [
    {
     "name": "stdout",
     "output_type": "stream",
     "text": [
      "0\n"
     ]
    }
   ],
   "source": [
    "nparr_min = np.min(nparr)\n",
    "print(nparr_min)"
   ]
  },
  {
   "cell_type": "code",
   "execution_count": 30,
   "id": "12c47bf0",
   "metadata": {},
   "outputs": [
    {
     "name": "stdout",
     "output_type": "stream",
     "text": [
      "[10 11 12 13 14 15 16 17 18 19 20 21 22 23 24 25 26 27 28 29 30 31 32 33\n",
      " 34 35 36 37 38 39 40 41 42 43 44 45 46 47 48 49 50]\n"
     ]
    }
   ],
   "source": [
    "arr_10to50 = np.arange(10,51)\n",
    "print(arr_10to50)"
   ]
  },
  {
   "cell_type": "code",
   "execution_count": 34,
   "id": "dbc1838f",
   "metadata": {},
   "outputs": [
    {
     "name": "stdout",
     "output_type": "stream",
     "text": [
      "[10 12 14 16 18 20 22 24 26 28 30 32 34 36 38 40 42 44 46 48 50]\n"
     ]
    }
   ],
   "source": [
    "arr_10to50_even = np.arange(10,51,2) #10부터 50까지 2씩 증가 for(i = 10 i<51; i+=2)\n",
    "print(arr_10to50_even)"
   ]
  },
  {
   "cell_type": "code",
   "execution_count": 37,
   "id": "77d8bb8c",
   "metadata": {},
   "outputs": [
    {
     "data": {
      "text/plain": [
       "array([[1, 2, 3],\n",
       "       [4, 5, 6],\n",
       "       [7, 8, 9]])"
      ]
     },
     "execution_count": 37,
     "metadata": {},
     "output_type": "execute_result"
    }
   ],
   "source": [
    "np.arange(1,10).reshape(3,3) #1부터 9까지 3*3행렬을 만듬"
   ]
  },
  {
   "cell_type": "code",
   "execution_count": 44,
   "id": "46f2374b",
   "metadata": {},
   "outputs": [
    {
     "data": {
      "text/plain": [
       "array([0.57548171])"
      ]
     },
     "execution_count": 44,
     "metadata": {},
     "output_type": "execute_result"
    }
   ],
   "source": [
    "np.random.randn(1)"
   ]
  },
  {
   "cell_type": "code",
   "execution_count": 45,
   "id": "970288f8",
   "metadata": {},
   "outputs": [
    {
     "data": {
      "text/plain": [
       "array([-0.95922389,  1.29200764, -0.86504128,  1.32473798,  0.06051864,\n",
       "       -0.70717937, -1.06405436, -0.61494146, -0.72213361,  0.18142008,\n",
       "        1.15297771, -1.36937199, -0.93901298, -0.51955794, -0.13730785,\n",
       "        2.02654846, -1.09896979, -0.75470096, -0.57582317, -1.07418499,\n",
       "        0.76737886,  0.13156064,  0.46226979, -1.1982236 , -0.84658109])"
      ]
     },
     "execution_count": 45,
     "metadata": {},
     "output_type": "execute_result"
    }
   ],
   "source": [
    "np.random.randn(25) #25가지의 랜덤값이 도출"
   ]
  },
  {
   "cell_type": "code",
   "execution_count": 47,
   "id": "0771d611",
   "metadata": {},
   "outputs": [
    {
     "data": {
      "text/plain": [
       "array([[0.01, 0.02, 0.03, 0.04, 0.05, 0.06, 0.07, 0.08, 0.09, 0.1 ],\n",
       "       [0.11, 0.12, 0.13, 0.14, 0.15, 0.16, 0.17, 0.18, 0.19, 0.2 ],\n",
       "       [0.21, 0.22, 0.23, 0.24, 0.25, 0.26, 0.27, 0.28, 0.29, 0.3 ],\n",
       "       [0.31, 0.32, 0.33, 0.34, 0.35, 0.36, 0.37, 0.38, 0.39, 0.4 ],\n",
       "       [0.41, 0.42, 0.43, 0.44, 0.45, 0.46, 0.47, 0.48, 0.49, 0.5 ],\n",
       "       [0.51, 0.52, 0.53, 0.54, 0.55, 0.56, 0.57, 0.58, 0.59, 0.6 ],\n",
       "       [0.61, 0.62, 0.63, 0.64, 0.65, 0.66, 0.67, 0.68, 0.69, 0.7 ],\n",
       "       [0.71, 0.72, 0.73, 0.74, 0.75, 0.76, 0.77, 0.78, 0.79, 0.8 ],\n",
       "       [0.81, 0.82, 0.83, 0.84, 0.85, 0.86, 0.87, 0.88, 0.89, 0.9 ],\n",
       "       [0.91, 0.92, 0.93, 0.94, 0.95, 0.96, 0.97, 0.98, 0.99, 1.  ]])"
      ]
     },
     "execution_count": 47,
     "metadata": {},
     "output_type": "execute_result"
    }
   ],
   "source": [
    "np.arange(1,101).reshape(10,10)/100 #10*10배열의 값을 100으로 나눔"
   ]
  },
  {
   "cell_type": "code",
   "execution_count": 50,
   "id": "77ecb0e5",
   "metadata": {},
   "outputs": [
    {
     "name": "stdout",
     "output_type": "stream",
     "text": [
      "[[ 1  2  3  4  5]\n",
      " [ 6  7  8  9 10]\n",
      " [11 12 13 14 15]\n",
      " [16 17 18 19 20]\n",
      " [21 22 23 24 25]]\n"
     ]
    }
   ],
   "source": [
    "arr_2_d = np.arange(1,26).reshape(5,5)\n",
    "print(arr_2_d)"
   ]
  },
  {
   "cell_type": "code",
   "execution_count": 51,
   "id": "46d64692",
   "metadata": {},
   "outputs": [
    {
     "data": {
      "text/plain": [
       "20"
      ]
     },
     "execution_count": 51,
     "metadata": {},
     "output_type": "execute_result"
    }
   ],
   "source": [
    "arr_2_d[3,4]"
   ]
  },
  {
   "cell_type": "code",
   "execution_count": 53,
   "id": "c8f32579",
   "metadata": {},
   "outputs": [
    {
     "data": {
      "text/plain": [
       "array([[ 2],\n",
       "       [ 7],\n",
       "       [12]])"
      ]
     },
     "execution_count": 53,
     "metadata": {},
     "output_type": "execute_result"
    }
   ],
   "source": [
    "arr_2_d[:3,1:2] #3행 1열만"
   ]
  },
  {
   "cell_type": "code",
   "execution_count": 56,
   "id": "daee3694",
   "metadata": {},
   "outputs": [
    {
     "data": {
      "text/plain": [
       "array([21, 22, 23, 24, 25])"
      ]
     },
     "execution_count": 56,
     "metadata": {},
     "output_type": "execute_result"
    }
   ],
   "source": [
    "arr_2_d[4,:] #4행을 모두 "
   ]
  },
  {
   "cell_type": "code",
   "execution_count": 59,
   "id": "f5e17ad6",
   "metadata": {},
   "outputs": [
    {
     "data": {
      "text/plain": [
       "325"
      ]
     },
     "execution_count": 59,
     "metadata": {},
     "output_type": "execute_result"
    }
   ],
   "source": [
    "np.sum(arr_2_d) #배열안 모든 원소의 값을 더함"
   ]
  },
  {
   "cell_type": "code",
   "execution_count": 60,
   "id": "12658fe1",
   "metadata": {},
   "outputs": [
    {
     "data": {
      "text/plain": [
       "7.211102550927978"
      ]
     },
     "execution_count": 60,
     "metadata": {},
     "output_type": "execute_result"
    }
   ],
   "source": [
    "np.std(arr_2_d)"
   ]
  },
  {
   "cell_type": "code",
   "execution_count": 68,
   "id": "5fbfd9e4",
   "metadata": {},
   "outputs": [
    {
     "data": {
      "text/plain": [
       "7.211102550927978"
      ]
     },
     "execution_count": 68,
     "metadata": {},
     "output_type": "execute_result"
    }
   ],
   "source": [
    "arr_2_d.std() #std = 표준편차"
   ]
  },
  {
   "cell_type": "code",
   "execution_count": 66,
   "id": "0dd8ca2d",
   "metadata": {},
   "outputs": [
    {
     "data": {
      "text/plain": [
       "array([55, 60, 65, 70, 75])"
      ]
     },
     "execution_count": 66,
     "metadata": {},
     "output_type": "execute_result"
    }
   ],
   "source": [
    "arr_2_d.sum(axis=0)"
   ]
  },
  {
   "cell_type": "code",
   "execution_count": 67,
   "id": "340bfb10",
   "metadata": {},
   "outputs": [
    {
     "data": {
      "text/plain": [
       "array([ 15,  40,  65,  90, 115])"
      ]
     },
     "execution_count": 67,
     "metadata": {},
     "output_type": "execute_result"
    }
   ],
   "source": [
    "arr_2_d.sum(axis=1)"
   ]
  },
  {
   "cell_type": "code",
   "execution_count": null,
   "id": "469f3cde",
   "metadata": {},
   "outputs": [],
   "source": []
  }
 ],
 "metadata": {
  "kernelspec": {
   "display_name": "Python 3",
   "language": "python",
   "name": "python3"
  },
  "language_info": {
   "codemirror_mode": {
    "name": "ipython",
    "version": 3
   },
   "file_extension": ".py",
   "mimetype": "text/x-python",
   "name": "python",
   "nbconvert_exporter": "python",
   "pygments_lexer": "ipython3",
   "version": "3.8.8"
  }
 },
 "nbformat": 4,
 "nbformat_minor": 5
}
