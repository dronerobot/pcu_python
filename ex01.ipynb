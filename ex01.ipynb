{
 "cells": [
  {
   "cell_type": "markdown",
   "id": "b13ea9cb",
   "metadata": {},
   "source": [
    "![02](02.png)"
   ]
  },
  {
   "cell_type": "markdown",
   "id": "9cd76924",
   "metadata": {},
   "source": [
    "http://data.seoul.go.kr/ 네이버"
   ]
  },
  {
   "cell_type": "code",
   "execution_count": 1,
   "id": "4913d661",
   "metadata": {},
   "outputs": [],
   "source": [
    "import pandas as pd"
   ]
  },
  {
   "cell_type": "code",
   "execution_count": 6,
   "id": "3a1d1dae",
   "metadata": {},
   "outputs": [],
   "source": [
    "dates = pd.date_range('20190301', periods=6)"
   ]
  },
  {
   "cell_type": "code",
   "execution_count": 7,
   "id": "ddf63563",
   "metadata": {},
   "outputs": [
    {
     "data": {
      "text/plain": [
       "DatetimeIndex(['2019-03-01', '2019-03-02', '2019-03-03', '2019-03-04',\n",
       "               '2019-03-05', '2019-03-06'],\n",
       "              dtype='datetime64[ns]', freq='D')"
      ]
     },
     "execution_count": 7,
     "metadata": {},
     "output_type": "execute_result"
    }
   ],
   "source": [
    "dates"
   ]
  },
  {
   "cell_type": "code",
   "execution_count": 8,
   "id": "ac382f89",
   "metadata": {},
   "outputs": [],
   "source": [
    "import numpy as np"
   ]
  },
  {
   "cell_type": "code",
   "execution_count": 10,
   "id": "6434fa14",
   "metadata": {},
   "outputs": [],
   "source": [
    "df = pd.DataFrame(np.random.randn(6,4), index = dates, columns=['A','B','C','D'])"
   ]
  },
  {
   "cell_type": "code",
   "execution_count": 11,
   "id": "b9ae14bb",
   "metadata": {},
   "outputs": [
    {
     "data": {
      "text/html": [
       "<div>\n",
       "<style scoped>\n",
       "    .dataframe tbody tr th:only-of-type {\n",
       "        vertical-align: middle;\n",
       "    }\n",
       "\n",
       "    .dataframe tbody tr th {\n",
       "        vertical-align: top;\n",
       "    }\n",
       "\n",
       "    .dataframe thead th {\n",
       "        text-align: right;\n",
       "    }\n",
       "</style>\n",
       "<table border=\"1\" class=\"dataframe\">\n",
       "  <thead>\n",
       "    <tr style=\"text-align: right;\">\n",
       "      <th></th>\n",
       "      <th>A</th>\n",
       "      <th>B</th>\n",
       "      <th>C</th>\n",
       "      <th>D</th>\n",
       "    </tr>\n",
       "  </thead>\n",
       "  <tbody>\n",
       "    <tr>\n",
       "      <th>2019-03-01</th>\n",
       "      <td>2.015909</td>\n",
       "      <td>1.164250</td>\n",
       "      <td>-0.703318</td>\n",
       "      <td>-0.427617</td>\n",
       "    </tr>\n",
       "    <tr>\n",
       "      <th>2019-03-02</th>\n",
       "      <td>-0.219913</td>\n",
       "      <td>-0.955241</td>\n",
       "      <td>2.914701</td>\n",
       "      <td>0.923429</td>\n",
       "    </tr>\n",
       "    <tr>\n",
       "      <th>2019-03-03</th>\n",
       "      <td>2.139962</td>\n",
       "      <td>0.500597</td>\n",
       "      <td>-0.103927</td>\n",
       "      <td>0.066631</td>\n",
       "    </tr>\n",
       "    <tr>\n",
       "      <th>2019-03-04</th>\n",
       "      <td>-0.346413</td>\n",
       "      <td>-0.490518</td>\n",
       "      <td>-0.837185</td>\n",
       "      <td>0.571429</td>\n",
       "    </tr>\n",
       "    <tr>\n",
       "      <th>2019-03-05</th>\n",
       "      <td>-0.981355</td>\n",
       "      <td>0.334289</td>\n",
       "      <td>0.276945</td>\n",
       "      <td>-0.419270</td>\n",
       "    </tr>\n",
       "    <tr>\n",
       "      <th>2019-03-06</th>\n",
       "      <td>-0.390545</td>\n",
       "      <td>-1.061330</td>\n",
       "      <td>1.497945</td>\n",
       "      <td>-0.307043</td>\n",
       "    </tr>\n",
       "  </tbody>\n",
       "</table>\n",
       "</div>"
      ],
      "text/plain": [
       "                   A         B         C         D\n",
       "2019-03-01  2.015909  1.164250 -0.703318 -0.427617\n",
       "2019-03-02 -0.219913 -0.955241  2.914701  0.923429\n",
       "2019-03-03  2.139962  0.500597 -0.103927  0.066631\n",
       "2019-03-04 -0.346413 -0.490518 -0.837185  0.571429\n",
       "2019-03-05 -0.981355  0.334289  0.276945 -0.419270\n",
       "2019-03-06 -0.390545 -1.061330  1.497945 -0.307043"
      ]
     },
     "execution_count": 11,
     "metadata": {},
     "output_type": "execute_result"
    }
   ],
   "source": [
    "df"
   ]
  },
  {
   "cell_type": "code",
   "execution_count": 12,
   "id": "f1007a0e",
   "metadata": {},
   "outputs": [
    {
     "data": {
      "text/plain": [
       "pandas.core.frame.DataFrame"
      ]
     },
     "execution_count": 12,
     "metadata": {},
     "output_type": "execute_result"
    }
   ],
   "source": [
    "type(df)"
   ]
  },
  {
   "cell_type": "code",
   "execution_count": 13,
   "id": "dd27051f",
   "metadata": {},
   "outputs": [
    {
     "data": {
      "text/plain": [
       "Index(['A', 'B', 'C', 'D'], dtype='object')"
      ]
     },
     "execution_count": 13,
     "metadata": {},
     "output_type": "execute_result"
    }
   ],
   "source": [
    "df.columns"
   ]
  },
  {
   "cell_type": "code",
   "execution_count": 14,
   "id": "e23dd4b3",
   "metadata": {},
   "outputs": [
    {
     "data": {
      "text/plain": [
       "DatetimeIndex(['2019-03-01', '2019-03-02', '2019-03-03', '2019-03-04',\n",
       "               '2019-03-05', '2019-03-06'],\n",
       "              dtype='datetime64[ns]', freq='D')"
      ]
     },
     "execution_count": 14,
     "metadata": {},
     "output_type": "execute_result"
    }
   ],
   "source": [
    "df.index"
   ]
  },
  {
   "cell_type": "code",
   "execution_count": 15,
   "id": "cbd728a4",
   "metadata": {},
   "outputs": [
    {
     "data": {
      "text/plain": [
       "array([[ 2.0159091 ,  1.16425018, -0.70331813, -0.42761688],\n",
       "       [-0.2199126 , -0.95524098,  2.91470121,  0.92342878],\n",
       "       [ 2.13996175,  0.50059745, -0.10392672,  0.06663143],\n",
       "       [-0.34641285, -0.49051751, -0.83718482,  0.57142858],\n",
       "       [-0.98135531,  0.33428948,  0.27694505, -0.41926978],\n",
       "       [-0.390545  , -1.06132997,  1.49794539, -0.30704329]])"
      ]
     },
     "execution_count": 15,
     "metadata": {},
     "output_type": "execute_result"
    }
   ],
   "source": [
    "df.values"
   ]
  },
  {
   "cell_type": "code",
   "execution_count": 17,
   "id": "b1724a9b",
   "metadata": {},
   "outputs": [
    {
     "data": {
      "text/html": [
       "<div>\n",
       "<style scoped>\n",
       "    .dataframe tbody tr th:only-of-type {\n",
       "        vertical-align: middle;\n",
       "    }\n",
       "\n",
       "    .dataframe tbody tr th {\n",
       "        vertical-align: top;\n",
       "    }\n",
       "\n",
       "    .dataframe thead th {\n",
       "        text-align: right;\n",
       "    }\n",
       "</style>\n",
       "<table border=\"1\" class=\"dataframe\">\n",
       "  <thead>\n",
       "    <tr style=\"text-align: right;\">\n",
       "      <th></th>\n",
       "      <th>A</th>\n",
       "      <th>B</th>\n",
       "      <th>C</th>\n",
       "      <th>D</th>\n",
       "    </tr>\n",
       "  </thead>\n",
       "  <tbody>\n",
       "    <tr>\n",
       "      <th>count</th>\n",
       "      <td>6.000000</td>\n",
       "      <td>6.000000</td>\n",
       "      <td>6.000000</td>\n",
       "      <td>6.000000</td>\n",
       "    </tr>\n",
       "    <tr>\n",
       "      <th>mean</th>\n",
       "      <td>0.369608</td>\n",
       "      <td>-0.084659</td>\n",
       "      <td>0.507527</td>\n",
       "      <td>0.067926</td>\n",
       "    </tr>\n",
       "    <tr>\n",
       "      <th>std</th>\n",
       "      <td>1.349638</td>\n",
       "      <td>0.889307</td>\n",
       "      <td>1.447540</td>\n",
       "      <td>0.567261</td>\n",
       "    </tr>\n",
       "    <tr>\n",
       "      <th>min</th>\n",
       "      <td>-0.981355</td>\n",
       "      <td>-1.061330</td>\n",
       "      <td>-0.837185</td>\n",
       "      <td>-0.427617</td>\n",
       "    </tr>\n",
       "    <tr>\n",
       "      <th>25%</th>\n",
       "      <td>-0.379512</td>\n",
       "      <td>-0.839060</td>\n",
       "      <td>-0.553470</td>\n",
       "      <td>-0.391213</td>\n",
       "    </tr>\n",
       "    <tr>\n",
       "      <th>50%</th>\n",
       "      <td>-0.283163</td>\n",
       "      <td>-0.078114</td>\n",
       "      <td>0.086509</td>\n",
       "      <td>-0.120206</td>\n",
       "    </tr>\n",
       "    <tr>\n",
       "      <th>75%</th>\n",
       "      <td>1.456954</td>\n",
       "      <td>0.459020</td>\n",
       "      <td>1.192695</td>\n",
       "      <td>0.445229</td>\n",
       "    </tr>\n",
       "    <tr>\n",
       "      <th>max</th>\n",
       "      <td>2.139962</td>\n",
       "      <td>1.164250</td>\n",
       "      <td>2.914701</td>\n",
       "      <td>0.923429</td>\n",
       "    </tr>\n",
       "  </tbody>\n",
       "</table>\n",
       "</div>"
      ],
      "text/plain": [
       "              A         B         C         D\n",
       "count  6.000000  6.000000  6.000000  6.000000\n",
       "mean   0.369608 -0.084659  0.507527  0.067926\n",
       "std    1.349638  0.889307  1.447540  0.567261\n",
       "min   -0.981355 -1.061330 -0.837185 -0.427617\n",
       "25%   -0.379512 -0.839060 -0.553470 -0.391213\n",
       "50%   -0.283163 -0.078114  0.086509 -0.120206\n",
       "75%    1.456954  0.459020  1.192695  0.445229\n",
       "max    2.139962  1.164250  2.914701  0.923429"
      ]
     },
     "execution_count": 17,
     "metadata": {},
     "output_type": "execute_result"
    }
   ],
   "source": [
    "df.describe()"
   ]
  },
  {
   "cell_type": "code",
   "execution_count": null,
   "id": "28f6839c",
   "metadata": {},
   "outputs": [],
   "source": []
  }
 ],
 "metadata": {
  "kernelspec": {
   "display_name": "Python 3 (ipykernel)",
   "language": "python",
   "name": "python3"
  },
  "language_info": {
   "codemirror_mode": {
    "name": "ipython",
    "version": 3
   },
   "file_extension": ".py",
   "mimetype": "text/x-python",
   "name": "python",
   "nbconvert_exporter": "python",
   "pygments_lexer": "ipython3",
   "version": "3.9.7"
  }
 },
 "nbformat": 4,
 "nbformat_minor": 5
}
