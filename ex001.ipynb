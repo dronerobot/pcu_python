{
 "cells": [
  {
   "cell_type": "code",
   "execution_count": 22,
   "id": "c2cebab3",
   "metadata": {},
   "outputs": [],
   "source": [
    "import urllib.request\n",
    "client_id = \"f4AKRVTREX8a4U6Jyic8\"\n",
    "client_secret = \"42DKFZZ2E6\""
   ]
  },
  {
   "cell_type": "code",
   "execution_count": 26,
   "id": "73f30bb4",
   "metadata": {},
   "outputs": [
    {
     "data": {
      "text/plain": [
       "'https://openapi.naver.com/v1/search/blog.json?query=BTS'"
      ]
     },
     "execution_count": 26,
     "metadata": {},
     "output_type": "execute_result"
    }
   ],
   "source": [
    "encText = urllib.parse.quote(\"BTS\") #encText는 임의의변수\n",
    "url1 = \"https://openapi.naver.com/v1/search/blog.json?query=\"+encText #url1도 임의의변수\n",
    "url1"
   ]
  },
  {
   "cell_type": "code",
   "execution_count": 27,
   "id": "52b36788",
   "metadata": {},
   "outputs": [],
   "source": [
    "request = urllib.request.Request(url1)\n",
    "request.add_header(\"X-Naver-Client-Id\", client_id)\n",
    "request.add_header(\"X-Naver-Client-Secret\", client_secret)"
   ]
  },
  {
   "cell_type": "code",
   "execution_count": 28,
   "id": "c8003990",
   "metadata": {},
   "outputs": [
    {
     "name": "stdout",
     "output_type": "stream",
     "text": [
      "200\n"
     ]
    }
   ],
   "source": [
    "response = urllib.request.urlopen(request)\n",
    "print(response.getcode())"
   ]
  },
  {
   "cell_type": "code",
   "execution_count": 29,
   "id": "0ed5e996",
   "metadata": {},
   "outputs": [
    {
     "data": {
      "text/plain": [
       "http.client.HTTPResponse"
      ]
     },
     "execution_count": 29,
     "metadata": {},
     "output_type": "execute_result"
    }
   ],
   "source": [
    "type(response)"
   ]
  },
  {
   "cell_type": "code",
   "execution_count": 30,
   "id": "a1cbb0fe",
   "metadata": {},
   "outputs": [
    {
     "name": "stdout",
     "output_type": "stream",
     "text": [
      "{\n",
      "\"lastBuildDate\": \"Wed, 24 Nov 2021 18:34:22 +0900\",\n",
      "\"total\": 5695106,\n",
      "\"start\": 1,\n",
      "\"display\": 10,\n",
      "\"items\": [\n",
      "{\n",
      "\"title\": \"강릉 가볼만한곳 <b>BTS</b> 버스정류장 향호해변 일출사냥!\",\n",
      "\"link\": \"https:\\/\\/blog.naver.com\\/rhksgn?Redirect=Log&logNo=222561904038\",\n",
      "\"description\": \"핫한 강원도 강릉 가볼만한곳인 <b>BTS</b> 버스정류장을 다녀온 후기를 공유해 봅니다. :-) 원래 일출을 보러... 전날, 일출이 뜨는 시간 30분 전에 향호해변에 도착해서 <b>BTS</b> 버스정류장으로 걸어갑니다. 향호해변에서는... \",\n",
      "\"bloggername\": \"딸기소보루의 ' Hobbylog '\",\n",
      "\"bloggerlink\": \"https://blog.naver.com/rhksgn\",\n",
      "\"postdate\": \"20211108\"\n",
      "\n",
      "},\n",
      "{\n",
      "\"title\": \"[일본] <b>BTS</b>, 2021 아메리칸 뮤직어워드 대상 수상 일본 반응\",\n",
      "\"link\": \"https:\\/\\/blog.naver.com\\/pumpkinpant?Redirect=Log&logNo=222576001339\",\n",
      "\"description\": \"수상한 <b>BTS</b>. 아시아 가수로는 첫 수상이라는기사에, 안티글이 넘쳐났던 지금까지의 댓글과 달리 축하와 인정을 담은 찬사가 압도적이었어요 웬일이니 ㅠㅠ 소름 돋을 정도. 안티들도 납득시킨 방탄이니까. <b>BTS</b>... \",\n",
      "\"bloggername\": \"펌킨팬츠\",\n",
      "\"bloggerlink\": \"https://blog.naver.com/pumpkinpant\",\n",
      "\"postdate\": \"20211123\"\n",
      "\n",
      "},\n",
      "{\n",
      "\"title\": \"<b>BTS</b> 병역혜택 줄지 말지 고민하면 안된다!\",\n",
      "\"link\": \"https:\\/\\/blog.naver.com\\/with4617?Redirect=Log&logNo=222575730816\",\n",
      "\"description\": \"<b>BTS</b>의 최연장자 진 ( 김석진 ) 은 1992년생으로 2022년까지 입대를 미룰 수 있습니다. 그런데... 2022년은... 출처 : 티브이데일리 <b>BTS</b> 는 그들과 비교해서 병역혜택을 주면 안되는 이유가 무엇일까요? 자기들 하고... \",\n",
      "\"bloggername\": \"자신에 대한 믿음\",\n",
      "\"bloggerlink\": \"https://blog.naver.com/with4617\",\n",
      "\"postdate\": \"20211122\"\n",
      "\n",
      "},\n",
      "{\n",
      "\"title\": \"삼척여행 삼척 해양케이블카와 <b>BTS</b> Butter 앨범촬영지... \",\n",
      "\"link\": \"https:\\/\\/blog.naver.com\\/tkmh1982?Redirect=Log&logNo=222567909011\",\n",
      "\"description\": \"삼척여행 삼척해양케이블카와 <b>BTS</b> Butter 앨범촬영지 맹방해변 10일전 가족여행으로 삼척여행을... 그리고 <b>BTS</b> 방탄소년단 Butter촬영지로 달려~~ 맹방해수욕장에 갔더니 너무 늦었나봐 썰렁함은 물론 너무 어둡다... \",\n",
      "\"bloggername\": \"해나리의 집밥 이야기\",\n",
      "\"bloggerlink\": \"https://blog.naver.com/tkmh1982\",\n",
      "\"postdate\": \"20211114\"\n",
      "\n",
      "},\n",
      "{\n",
      "\"title\": \"갤럭시 S20 플러스, <b>BTS</b> 에디션 가격과 스펙 정리\",\n",
      "\"link\": \"https:\\/\\/blog.naver.com\\/supapa13?Redirect=Log&logNo=222572897862\",\n",
      "\"description\": \"<b>BTS</b>입니다. (모르는 사람은 없겠지만..) 방탄소년단은 글로벌 탑티어 인기 아이돌 그룹으로, 몇 년 전부터 다양한 콜라보 상품까지 등장하고 있습니다. 이미 익숙하게 잘 알고 있던 아이템이지만, '<b>BTS</b>... \",\n",
      "\"bloggername\": \"세수하면이병헌 IT, 육아\",\n",
      "\"bloggerlink\": \"https://blog.naver.com/supapa13\",\n",
      "\"postdate\": \"20211121\"\n",
      "\n",
      "},\n",
      "{\n",
      "\"title\": \"방탄소년단 한복 <b>BTS</b> 달마중 굿즈! 덕업일치는 리슬을 위한 단어\",\n",
      "\"link\": \"https:\\/\\/blog.naver.com\\/ys871220?Redirect=Log&logNo=222573082794\",\n",
      "\"description\": \"덕중에 제일은 성덕이오 그보다 제일은 덕업일치이니 리슬의 대장이자, 디자이너 황피디님은 <b>BTS</b>의 성덕으로 통하고 있습니다. 디자인하느라 넋을 빼앗긴 황PD님의 사무실 도촬하기 <b>BTS</b> 지민님이 세계무대에서... \",\n",
      "\"bloggername\": \"LEESLE - 오, 한복한 인생\",\n",
      "\"bloggerlink\": \"https://blog.naver.com/ys871220\",\n",
      "\"postdate\": \"20211119\"\n",
      "\n",
      "},\n",
      "{\n",
      "\"title\": \"<b>BTS</b>떡볶이 성지 안가고 집에서 즐긴 후기\",\n",
      "\"link\": \"https:\\/\\/blog.naver.com\\/hk69ai?Redirect=Log&logNo=222557213499\",\n",
      "\"description\": \"그래서 그때 우리 딸이 <b>BTS</b>에게 친필로 받은 시디를 쭉 사진 찍어 올렸죠 지금도 가끔 팔지 않으시겠냐는... 나오는 <b>BTS</b>떡볶이 먹는 모습을 보고나서 갑자기 급 땡기기 시작하더라고요. 그래서 어떤 제품인지... \",\n",
      "\"bloggername\": \"마루이찌 쌤과 푸들 愛(아이)의 일본어와 일상\",\n",
      "\"bloggerlink\": \"https://blog.naver.com/hk69ai\",\n",
      "\"postdate\": \"20211103\"\n",
      "\n",
      "},\n",
      "{\n",
      "\"title\": \"<b>BTS</b>를 흑맥주에 눈 뜨게 한 강릉의 지역 술\",\n",
      "\"link\": \"https:\\/\\/blog.naver.com\\/the_trip?Redirect=Log&logNo=222569958896\",\n",
      "\"description\": \"<b>BTS</b>가 촬영 중 푹 빠진 맥주 강릉 부르어리 바이 현의 제품 “지금껏 마신 맥주는 흑맥주 아냐” 강릉 병산동 마을 속 전시장 ‘소집’ 속초에는 지역 책방 문우당서림 등 지역과 결합한 여행지 매력 넘쳐 <b>BTS</b>는... \",\n",
      "\"bloggername\": \"네이버 여행+\",\n",
      "\"bloggerlink\": \"https://blog.naver.com/the_trip\",\n",
      "\"postdate\": \"20211116\"\n",
      "\n",
      "},\n",
      "{\n",
      "\"title\": \"바이아우어 머드마스크 <b>BTS</b> 덕분에 써 본 블랙헤드제거 템\",\n",
      "\"link\": \"https:\\/\\/blog.naver.com\\/happypme?Redirect=Log&logNo=222572107077\",\n",
      "\"description\": \"<b>BTS</b> IN THE SOOP2에 남준이랑 꾸기랑 호비가 쓴 바로 그 제품 바이아우어 머드마스크 ! 실제 써 본 후기는... 아무튼 <b>BTS</b> 덕분에 써 본 바이아우어 머드마스크 팩 만족도가 괜찮아서 자주 사는건 아니고 한달에... \",\n",
      "\"bloggername\": \"맹쿄쿄의 사계절\",\n",
      "\"bloggerlink\": \"https://blog.naver.com/happypme\",\n",
      "\"postdate\": \"20211118\"\n",
      "\n",
      "},\n",
      "{\n",
      "\"title\": \"삼척 여행) <b>BTS</b> 앨범 재킷 촬영지 맹방 해수욕장\",\n",
      "\"link\": \"https:\\/\\/blog.naver.com\\/dssa1020?Redirect=Log&logNo=222564194683\",\n",
      "\"description\": \"- 2021년 10월 여행 기록 - 지난 강릉 여행에서 다녀왔던 <b>BTS</b> 앨범 재킷 촬영지인 맹방 해수욕장 강릉에서... 만난 <b>BTS</b> 포토존 비가 그친지 얼마 안 된 건지 바닥이 젖어있기는 했다. 오렌지와 초록색의 파라솔과... \",\n",
      "\"bloggername\": \"그래도 삶은 계속된다\",\n",
      "\"bloggerlink\": \"https://blog.naver.com/dssa1020\",\n",
      "\"postdate\": \"20211111\"\n",
      "\n",
      "}\n",
      "]\n",
      "}\n",
      "\n"
     ]
    }
   ],
   "source": [
    "print(response.read().decode('utf-8'))"
   ]
  },
  {
   "cell_type": "code",
   "execution_count": 31,
   "id": "b15ea4d8",
   "metadata": {},
   "outputs": [],
   "source": [
    "def create_url(api_node, search_text, start_num, disp_num):\n",
    "    base = \"https://openapi.naver.com/v1/search\"\n",
    "    node = \"/\"+api_node+\".json\"\n",
    "    param_query = \"?query=\" + urllib.parse.quote(search_text)\n",
    "    param_start = \"&start=\" + str(start_num)\n",
    "    param_disp = \"&display=\" + str(disp_num)\n",
    "    \n",
    "    return base+node+param_query+param_start+param_disp"
   ]
  },
  {
   "cell_type": "code",
   "execution_count": 32,
   "id": "bc34b0f9",
   "metadata": {},
   "outputs": [
    {
     "data": {
      "text/plain": [
       "'https://openapi.naver.com/v1/search/blog.json?query=bts&start=1&display=5'"
      ]
     },
     "execution_count": 32,
     "metadata": {},
     "output_type": "execute_result"
    }
   ],
   "source": [
    "url2 = create_url(\"blog\", \"bts\", 1, 5)\n",
    "url2"
   ]
  },
  {
   "cell_type": "code",
   "execution_count": 35,
   "id": "33bbcecf",
   "metadata": {},
   "outputs": [
    {
     "name": "stdout",
     "output_type": "stream",
     "text": [
      "\n"
     ]
    }
   ],
   "source": [
    "print(response.read().decode('utf-8'))"
   ]
  },
  {
   "cell_type": "code",
   "execution_count": 36,
   "id": "3720b579",
   "metadata": {},
   "outputs": [],
   "source": [
    "import json"
   ]
  },
  {
   "cell_type": "code",
   "execution_count": 37,
   "id": "eef5d3ef",
   "metadata": {},
   "outputs": [
    {
     "name": "stdout",
     "output_type": "stream",
     "text": [
      "200\n"
     ]
    }
   ],
   "source": [
    "response = urllib.request.urlopen(request)\n",
    "print(response.getcode())"
   ]
  },
  {
   "cell_type": "code",
   "execution_count": 38,
   "id": "6cca1772",
   "metadata": {},
   "outputs": [
    {
     "data": {
      "text/plain": [
       "{'lastBuildDate': 'Wed, 24 Nov 2021 18:37:46 +0900',\n",
       " 'total': 5695106,\n",
       " 'start': 1,\n",
       " 'display': 10,\n",
       " 'items': [{'title': '강릉 가볼만한곳 <b>BTS</b> 버스정류장 향호해변 일출사냥!',\n",
       "   'link': 'https://blog.naver.com/rhksgn?Redirect=Log&logNo=222561904038',\n",
       "   'description': '핫한 강원도 강릉 가볼만한곳인 <b>BTS</b> 버스정류장을 다녀온 후기를 공유해 봅니다. :-) 원래 일출을 보러... 전날, 일출이 뜨는 시간 30분 전에 향호해변에 도착해서 <b>BTS</b> 버스정류장으로 걸어갑니다. 향호해변에서는... ',\n",
       "   'bloggername': \"딸기소보루의 ' Hobbylog '\",\n",
       "   'bloggerlink': 'https://blog.naver.com/rhksgn',\n",
       "   'postdate': '20211108'},\n",
       "  {'title': '[일본] <b>BTS</b>, 2021 아메리칸 뮤직어워드 대상 수상 일본 반응',\n",
       "   'link': 'https://blog.naver.com/pumpkinpant?Redirect=Log&logNo=222576001339',\n",
       "   'description': '수상한 <b>BTS</b>. 아시아 가수로는 첫 수상이라는기사에, 안티글이 넘쳐났던 지금까지의 댓글과 달리 축하와 인정을 담은 찬사가 압도적이었어요 웬일이니 ㅠㅠ 소름 돋을 정도. 안티들도 납득시킨 방탄이니까. <b>BTS</b>... ',\n",
       "   'bloggername': '펌킨팬츠',\n",
       "   'bloggerlink': 'https://blog.naver.com/pumpkinpant',\n",
       "   'postdate': '20211123'},\n",
       "  {'title': '<b>BTS</b> 병역혜택 줄지 말지 고민하면 안된다!',\n",
       "   'link': 'https://blog.naver.com/with4617?Redirect=Log&logNo=222575730816',\n",
       "   'description': '<b>BTS</b>의 최연장자 진 ( 김석진 ) 은 1992년생으로 2022년까지 입대를 미룰 수 있습니다. 그런데... 2022년은... 출처 : 티브이데일리 <b>BTS</b> 는 그들과 비교해서 병역혜택을 주면 안되는 이유가 무엇일까요? 자기들 하고... ',\n",
       "   'bloggername': '자신에 대한 믿음',\n",
       "   'bloggerlink': 'https://blog.naver.com/with4617',\n",
       "   'postdate': '20211122'},\n",
       "  {'title': '삼척여행 삼척 해양케이블카와 <b>BTS</b> Butter 앨범촬영지... ',\n",
       "   'link': 'https://blog.naver.com/tkmh1982?Redirect=Log&logNo=222567909011',\n",
       "   'description': '삼척여행 삼척해양케이블카와 <b>BTS</b> Butter 앨범촬영지 맹방해변 10일전 가족여행으로 삼척여행을... 그리고 <b>BTS</b> 방탄소년단 Butter촬영지로 달려~~ 맹방해수욕장에 갔더니 너무 늦었나봐 썰렁함은 물론 너무 어둡다... ',\n",
       "   'bloggername': '해나리의 집밥 이야기',\n",
       "   'bloggerlink': 'https://blog.naver.com/tkmh1982',\n",
       "   'postdate': '20211114'},\n",
       "  {'title': '갤럭시 S20 플러스, <b>BTS</b> 에디션 가격과 스펙 정리',\n",
       "   'link': 'https://blog.naver.com/supapa13?Redirect=Log&logNo=222572897862',\n",
       "   'description': \"<b>BTS</b>입니다. (모르는 사람은 없겠지만..) 방탄소년단은 글로벌 탑티어 인기 아이돌 그룹으로, 몇 년 전부터 다양한 콜라보 상품까지 등장하고 있습니다. 이미 익숙하게 잘 알고 있던 아이템이지만, '<b>BTS</b>... \",\n",
       "   'bloggername': '세수하면이병헌 IT, 육아',\n",
       "   'bloggerlink': 'https://blog.naver.com/supapa13',\n",
       "   'postdate': '20211121'},\n",
       "  {'title': '방탄소년단 한복 <b>BTS</b> 달마중 굿즈! 덕업일치는 리슬을 위한 단어',\n",
       "   'link': 'https://blog.naver.com/ys871220?Redirect=Log&logNo=222573082794',\n",
       "   'description': '덕중에 제일은 성덕이오 그보다 제일은 덕업일치이니 리슬의 대장이자, 디자이너 황피디님은 <b>BTS</b>의 성덕으로 통하고 있습니다. 디자인하느라 넋을 빼앗긴 황PD님의 사무실 도촬하기 <b>BTS</b> 지민님이 세계무대에서... ',\n",
       "   'bloggername': 'LEESLE - 오, 한복한 인생',\n",
       "   'bloggerlink': 'https://blog.naver.com/ys871220',\n",
       "   'postdate': '20211119'},\n",
       "  {'title': '<b>BTS</b>떡볶이 성지 안가고 집에서 즐긴 후기',\n",
       "   'link': 'https://blog.naver.com/hk69ai?Redirect=Log&logNo=222557213499',\n",
       "   'description': '그래서 그때 우리 딸이 <b>BTS</b>에게 친필로 받은 시디를 쭉 사진 찍어 올렸죠 지금도 가끔 팔지 않으시겠냐는... 나오는 <b>BTS</b>떡볶이 먹는 모습을 보고나서 갑자기 급 땡기기 시작하더라고요. 그래서 어떤 제품인지... ',\n",
       "   'bloggername': '마루이찌 쌤과 푸들 愛(아이)의 일본어와 일상',\n",
       "   'bloggerlink': 'https://blog.naver.com/hk69ai',\n",
       "   'postdate': '20211103'},\n",
       "  {'title': '<b>BTS</b>를 흑맥주에 눈 뜨게 한 강릉의 지역 술',\n",
       "   'link': 'https://blog.naver.com/the_trip?Redirect=Log&logNo=222569958896',\n",
       "   'description': '<b>BTS</b>가 촬영 중 푹 빠진 맥주 강릉 부르어리 바이 현의 제품 “지금껏 마신 맥주는 흑맥주 아냐” 강릉 병산동 마을 속 전시장 ‘소집’ 속초에는 지역 책방 문우당서림 등 지역과 결합한 여행지 매력 넘쳐 <b>BTS</b>는... ',\n",
       "   'bloggername': '네이버 여행+',\n",
       "   'bloggerlink': 'https://blog.naver.com/the_trip',\n",
       "   'postdate': '20211116'},\n",
       "  {'title': '바이아우어 머드마스크 <b>BTS</b> 덕분에 써 본 블랙헤드제거 템',\n",
       "   'link': 'https://blog.naver.com/happypme?Redirect=Log&logNo=222572107077',\n",
       "   'description': '<b>BTS</b> IN THE SOOP2에 남준이랑 꾸기랑 호비가 쓴 바로 그 제품 바이아우어 머드마스크 ! 실제 써 본 후기는... 아무튼 <b>BTS</b> 덕분에 써 본 바이아우어 머드마스크 팩 만족도가 괜찮아서 자주 사는건 아니고 한달에... ',\n",
       "   'bloggername': '맹쿄쿄의 사계절',\n",
       "   'bloggerlink': 'https://blog.naver.com/happypme',\n",
       "   'postdate': '20211118'},\n",
       "  {'title': '삼척 여행) <b>BTS</b> 앨범 재킷 촬영지 맹방 해수욕장',\n",
       "   'link': 'https://blog.naver.com/dssa1020?Redirect=Log&logNo=222564194683',\n",
       "   'description': '- 2021년 10월 여행 기록 - 지난 강릉 여행에서 다녀왔던 <b>BTS</b> 앨범 재킷 촬영지인 맹방 해수욕장 강릉에서... 만난 <b>BTS</b> 포토존 비가 그친지 얼마 안 된 건지 바닥이 젖어있기는 했다. 오렌지와 초록색의 파라솔과... ',\n",
       "   'bloggername': '그래도 삶은 계속된다',\n",
       "   'bloggerlink': 'https://blog.naver.com/dssa1020',\n",
       "   'postdate': '20211111'}]}"
      ]
     },
     "execution_count": 38,
     "metadata": {},
     "output_type": "execute_result"
    }
   ],
   "source": [
    "result = json.loads(response.read().decode('utf-8'))\n",
    "result"
   ]
  },
  {
   "cell_type": "code",
   "execution_count": null,
   "id": "b2c21c49",
   "metadata": {},
   "outputs": [],
   "source": []
  }
 ],
 "metadata": {
  "kernelspec": {
   "display_name": "Python 3",
   "language": "python",
   "name": "python3"
  },
  "language_info": {
   "codemirror_mode": {
    "name": "ipython",
    "version": 3
   },
   "file_extension": ".py",
   "mimetype": "text/x-python",
   "name": "python",
   "nbconvert_exporter": "python",
   "pygments_lexer": "ipython3",
   "version": "3.8.8"
  }
 },
 "nbformat": 4,
 "nbformat_minor": 5
}
